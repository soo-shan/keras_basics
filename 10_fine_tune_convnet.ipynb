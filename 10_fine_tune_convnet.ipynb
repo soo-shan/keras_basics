{
 "cells": [
  {
   "cell_type": "code",
   "execution_count": 18,
   "metadata": {},
   "outputs": [],
   "source": [
    "import numpy as np\n",
    "import pandas as pd\n",
    "import matplotlib.pyplot as plt\n",
    "\n",
    "from keras.preprocessing.image import ImageDataGenerator\n",
    "from keras import optimizers, models, layers\n",
    "from keras.applications import VGG16\n",
    "\n",
    "import os\n",
    "\n",
    "import warnings\n",
    "warnings.filterwarnings(\"ignore\", \"(Possibly )?corrupt EXIF data\", UserWarning)"
   ]
  },
  {
   "cell_type": "markdown",
   "metadata": {},
   "source": [
    "### Steps for fine-tuning a network are as follow:\n",
    "#### 1. Add your custom network on top of an already-trained base network.\n",
    "#### 2. Freeze the base network.\n",
    "#### 3. Train the part you added.\n",
    "#### 4. Unfreeze some layers in the base network.\n",
    "#### 5. Jointly train both these layers and the part you added"
   ]
  },
  {
   "cell_type": "code",
   "execution_count": 2,
   "metadata": {},
   "outputs": [
    {
     "name": "stdout",
     "output_type": "stream",
     "text": [
      "_________________________________________________________________\n",
      "Layer (type)                 Output Shape              Param #   \n",
      "=================================================================\n",
      "vgg16 (Model)                (None, 4, 4, 512)         14714688  \n",
      "_________________________________________________________________\n",
      "flatten_1 (Flatten)          (None, 8192)              0         \n",
      "_________________________________________________________________\n",
      "dense_3 (Dense)              (None, 256)               2097408   \n",
      "_________________________________________________________________\n",
      "dense_4 (Dense)              (None, 1)                 257       \n",
      "=================================================================\n",
      "Total params: 16,812,353\n",
      "Trainable params: 16,812,353\n",
      "Non-trainable params: 0\n",
      "_________________________________________________________________\n"
     ]
    }
   ],
   "source": [
    "# Load the Trained model (part 3 from above)\n",
    "with open('models/cats_and_dog_VGG16_2_architecture.json','r') as f:\n",
    "    model = models.model_from_json(f.read())\n",
    "\n",
    "model.load_weights('models/cats_and_dog_VGG16_2_weights.h5')\n",
    "\n",
    "model.summary()    "
   ]
  },
  {
   "cell_type": "code",
   "execution_count": 3,
   "metadata": {
    "scrolled": false
   },
   "outputs": [
    {
     "name": "stdout",
     "output_type": "stream",
     "text": [
      "_________________________________________________________________\n",
      "Layer (type)                 Output Shape              Param #   \n",
      "=================================================================\n",
      "input_1 (InputLayer)         (None, 150, 150, 3)       0         \n",
      "_________________________________________________________________\n",
      "block1_conv1 (Conv2D)        (None, 150, 150, 64)      1792      \n",
      "_________________________________________________________________\n",
      "block1_conv2 (Conv2D)        (None, 150, 150, 64)      36928     \n",
      "_________________________________________________________________\n",
      "block1_pool (MaxPooling2D)   (None, 75, 75, 64)        0         \n",
      "_________________________________________________________________\n",
      "block2_conv1 (Conv2D)        (None, 75, 75, 128)       73856     \n",
      "_________________________________________________________________\n",
      "block2_conv2 (Conv2D)        (None, 75, 75, 128)       147584    \n",
      "_________________________________________________________________\n",
      "block2_pool (MaxPooling2D)   (None, 37, 37, 128)       0         \n",
      "_________________________________________________________________\n",
      "block3_conv1 (Conv2D)        (None, 37, 37, 256)       295168    \n",
      "_________________________________________________________________\n",
      "block3_conv2 (Conv2D)        (None, 37, 37, 256)       590080    \n",
      "_________________________________________________________________\n",
      "block3_conv3 (Conv2D)        (None, 37, 37, 256)       590080    \n",
      "_________________________________________________________________\n",
      "block3_pool (MaxPooling2D)   (None, 18, 18, 256)       0         \n",
      "_________________________________________________________________\n",
      "block4_conv1 (Conv2D)        (None, 18, 18, 512)       1180160   \n",
      "_________________________________________________________________\n",
      "block4_conv2 (Conv2D)        (None, 18, 18, 512)       2359808   \n",
      "_________________________________________________________________\n",
      "block4_conv3 (Conv2D)        (None, 18, 18, 512)       2359808   \n",
      "_________________________________________________________________\n",
      "block4_pool (MaxPooling2D)   (None, 9, 9, 512)         0         \n",
      "_________________________________________________________________\n",
      "block5_conv1 (Conv2D)        (None, 9, 9, 512)         2359808   \n",
      "_________________________________________________________________\n",
      "block5_conv2 (Conv2D)        (None, 9, 9, 512)         2359808   \n",
      "_________________________________________________________________\n",
      "block5_conv3 (Conv2D)        (None, 9, 9, 512)         2359808   \n",
      "_________________________________________________________________\n",
      "block5_pool (MaxPooling2D)   (None, 4, 4, 512)         0         \n",
      "=================================================================\n",
      "Total params: 14,714,688\n",
      "Trainable params: 14,714,688\n",
      "Non-trainable params: 0\n",
      "_________________________________________________________________\n"
     ]
    }
   ],
   "source": [
    "# vgg16 model\n",
    "model.layers[0].summary()"
   ]
  },
  {
   "cell_type": "code",
   "execution_count": 4,
   "metadata": {},
   "outputs": [],
   "source": [
    "model.layers[0].trainable = True\n",
    "\n",
    "# set layers trainable after a particular layer\n",
    "set_trainable = False\n",
    "for layer in model.layers[0].layers:\n",
    "    if layer.name == 'block5_conv2':\n",
    "        set_trainable = True\n",
    "    if set_trainable:\n",
    "        layer.trainable = True\n",
    "    else:\n",
    "        layer.trainable = False"
   ]
  },
  {
   "cell_type": "code",
   "execution_count": 5,
   "metadata": {},
   "outputs": [
    {
     "name": "stdout",
     "output_type": "stream",
     "text": [
      "_________________________________________________________________\n",
      "Layer (type)                 Output Shape              Param #   \n",
      "=================================================================\n",
      "vgg16 (Model)                (None, 4, 4, 512)         14714688  \n",
      "_________________________________________________________________\n",
      "flatten_1 (Flatten)          (None, 8192)              0         \n",
      "_________________________________________________________________\n",
      "dense_3 (Dense)              (None, 256)               2097408   \n",
      "_________________________________________________________________\n",
      "dense_4 (Dense)              (None, 1)                 257       \n",
      "=================================================================\n",
      "Total params: 16,812,353\n",
      "Trainable params: 6,817,281\n",
      "Non-trainable params: 9,995,072\n",
      "_________________________________________________________________\n"
     ]
    }
   ],
   "source": [
    "model.summary()"
   ]
  },
  {
   "cell_type": "code",
   "execution_count": 6,
   "metadata": {},
   "outputs": [
    {
     "name": "stdout",
     "output_type": "stream",
     "text": [
      "_________________________________________________________________\n",
      "Layer (type)                 Output Shape              Param #   \n",
      "=================================================================\n",
      "input_1 (InputLayer)         (None, 150, 150, 3)       0         \n",
      "_________________________________________________________________\n",
      "block1_conv1 (Conv2D)        (None, 150, 150, 64)      1792      \n",
      "_________________________________________________________________\n",
      "block1_conv2 (Conv2D)        (None, 150, 150, 64)      36928     \n",
      "_________________________________________________________________\n",
      "block1_pool (MaxPooling2D)   (None, 75, 75, 64)        0         \n",
      "_________________________________________________________________\n",
      "block2_conv1 (Conv2D)        (None, 75, 75, 128)       73856     \n",
      "_________________________________________________________________\n",
      "block2_conv2 (Conv2D)        (None, 75, 75, 128)       147584    \n",
      "_________________________________________________________________\n",
      "block2_pool (MaxPooling2D)   (None, 37, 37, 128)       0         \n",
      "_________________________________________________________________\n",
      "block3_conv1 (Conv2D)        (None, 37, 37, 256)       295168    \n",
      "_________________________________________________________________\n",
      "block3_conv2 (Conv2D)        (None, 37, 37, 256)       590080    \n",
      "_________________________________________________________________\n",
      "block3_conv3 (Conv2D)        (None, 37, 37, 256)       590080    \n",
      "_________________________________________________________________\n",
      "block3_pool (MaxPooling2D)   (None, 18, 18, 256)       0         \n",
      "_________________________________________________________________\n",
      "block4_conv1 (Conv2D)        (None, 18, 18, 512)       1180160   \n",
      "_________________________________________________________________\n",
      "block4_conv2 (Conv2D)        (None, 18, 18, 512)       2359808   \n",
      "_________________________________________________________________\n",
      "block4_conv3 (Conv2D)        (None, 18, 18, 512)       2359808   \n",
      "_________________________________________________________________\n",
      "block4_pool (MaxPooling2D)   (None, 9, 9, 512)         0         \n",
      "_________________________________________________________________\n",
      "block5_conv1 (Conv2D)        (None, 9, 9, 512)         2359808   \n",
      "_________________________________________________________________\n",
      "block5_conv2 (Conv2D)        (None, 9, 9, 512)         2359808   \n",
      "_________________________________________________________________\n",
      "block5_conv3 (Conv2D)        (None, 9, 9, 512)         2359808   \n",
      "_________________________________________________________________\n",
      "block5_pool (MaxPooling2D)   (None, 4, 4, 512)         0         \n",
      "=================================================================\n",
      "Total params: 14,714,688\n",
      "Trainable params: 4,719,616\n",
      "Non-trainable params: 9,995,072\n",
      "_________________________________________________________________\n"
     ]
    }
   ],
   "source": [
    "# VGG layers summary\n",
    "model.layers[0].summary()"
   ]
  },
  {
   "cell_type": "code",
   "execution_count": 7,
   "metadata": {},
   "outputs": [
    {
     "name": "stdout",
     "output_type": "stream",
     "text": [
      "-----Full Model-----\n",
      "vgg16 True\n",
      "flatten_1 True\n",
      "dense_3 True\n",
      "dense_4 True\n",
      "-----For VGG16 Layers-----\n",
      "input_1 False\n",
      "block1_conv1 False\n",
      "block1_conv2 False\n",
      "block1_pool False\n",
      "block2_conv1 False\n",
      "block2_conv2 False\n",
      "block2_pool False\n",
      "block3_conv1 False\n",
      "block3_conv2 False\n",
      "block3_conv3 False\n",
      "block3_pool False\n",
      "block4_conv1 False\n",
      "block4_conv2 False\n",
      "block4_conv3 False\n",
      "block4_pool False\n",
      "block5_conv1 False\n",
      "block5_conv2 True\n",
      "block5_conv3 True\n",
      "block5_pool True\n"
     ]
    }
   ],
   "source": [
    "print('-----Full Model-----')\n",
    "for layer in model.layers:\n",
    "    print(layer.name, layer.trainable)\n",
    "\n",
    "print('-----For VGG16 Layers-----')\n",
    "for layer in model.layers[0].layers:\n",
    "    print(layer.name, layer.trainable)"
   ]
  },
  {
   "cell_type": "code",
   "execution_count": 8,
   "metadata": {},
   "outputs": [],
   "source": [
    "# compile model\n",
    "model.compile(loss='binary_crossentropy',\n",
    "              optimizer=optimizers.RMSprop(lr=1e-5),\n",
    "              metrics=['acc'])\n"
   ]
  },
  {
   "cell_type": "code",
   "execution_count": 9,
   "metadata": {},
   "outputs": [
    {
     "name": "stdout",
     "output_type": "stream",
     "text": [
      "Found 2000 images belonging to 2 classes.\n",
      "Found 1000 images belonging to 2 classes.\n",
      "Found 1000 images belonging to 2 classes.\n"
     ]
    }
   ],
   "source": [
    "# data preparation\n",
    "base_dir = 'data/cats_and_dogs_small'\n",
    "\n",
    "train_dir = os.path.join(base_dir,'train')\n",
    "validation_dir = os.path.join(base_dir,'validation')\n",
    "test_dir = os.path.join(base_dir,'test')\n",
    "\n",
    "train_datagen = ImageDataGenerator(rescale=1./255,\n",
    "                          rotation_range=40,\n",
    "                          width_shift_range=0.2,\n",
    "                          height_shift_range=0.2,\n",
    "                          shear_range=0.2,\n",
    "                          zoom_range=0.2,\n",
    "                          horizontal_flip=True,\n",
    "                          fill_mode='nearest')\n",
    "test_datagen = ImageDataGenerator(rescale=1./255)\n",
    "\n",
    "train_generator = train_datagen.flow_from_directory(train_dir,\n",
    "                           target_size=(150,150),\n",
    "                           batch_size=20,\n",
    "                           class_mode='binary')\n",
    "\n",
    "validation_generator = test_datagen.flow_from_directory(validation_dir,\n",
    "                           target_size=(150,150),\n",
    "                           batch_size=20,\n",
    "                           class_mode='binary')\n",
    "\n",
    "test_generator = test_datagen.flow_from_directory(test_dir,\n",
    "                           target_size=(150,150),\n",
    "                           batch_size=20,\n",
    "                           class_mode='binary')"
   ]
  },
  {
   "cell_type": "code",
   "execution_count": 10,
   "metadata": {
    "deletable": false,
    "editable": false,
    "run_control": {
     "frozen": true
    }
   },
   "outputs": [
    {
     "name": "stdout",
     "output_type": "stream",
     "text": [
      "Epoch 1/30\n",
      "100/100 [==============================] - 420s 4s/step - loss: 0.2762 - acc: 0.8705 - val_loss: 0.2442 - val_acc: 0.8990\n",
      "Epoch 2/30\n",
      "100/100 [==============================] - 414s 4s/step - loss: 0.2673 - acc: 0.8820 - val_loss: 0.2254 - val_acc: 0.9070\n",
      "Epoch 3/30\n",
      "100/100 [==============================] - 413s 4s/step - loss: 0.2471 - acc: 0.8945 - val_loss: 0.2377 - val_acc: 0.9060\n",
      "Epoch 4/30\n",
      "100/100 [==============================] - 413s 4s/step - loss: 0.2521 - acc: 0.9020 - val_loss: 0.2136 - val_acc: 0.9160\n",
      "Epoch 5/30\n",
      "100/100 [==============================] - 415s 4s/step - loss: 0.2195 - acc: 0.9110 - val_loss: 0.2033 - val_acc: 0.9200\n",
      "Epoch 6/30\n",
      "100/100 [==============================] - 417s 4s/step - loss: 0.2188 - acc: 0.9155 - val_loss: 0.2218 - val_acc: 0.9120\n",
      "Epoch 7/30\n",
      "100/100 [==============================] - 415s 4s/step - loss: 0.2171 - acc: 0.9140 - val_loss: 0.2010 - val_acc: 0.9180\n",
      "Epoch 8/30\n",
      "100/100 [==============================] - 414s 4s/step - loss: 0.2020 - acc: 0.9125 - val_loss: 0.1981 - val_acc: 0.9260\n",
      "Epoch 9/30\n",
      "100/100 [==============================] - 414s 4s/step - loss: 0.2011 - acc: 0.9150 - val_loss: 0.1940 - val_acc: 0.9260\n",
      "Epoch 10/30\n",
      "100/100 [==============================] - 426s 4s/step - loss: 0.1885 - acc: 0.9210 - val_loss: 0.2005 - val_acc: 0.9190\n",
      "Epoch 11/30\n",
      "100/100 [==============================] - 421s 4s/step - loss: 0.1733 - acc: 0.9325 - val_loss: 0.2039 - val_acc: 0.9250\n",
      "Epoch 12/30\n",
      "100/100 [==============================] - 429s 4s/step - loss: 0.1798 - acc: 0.9265 - val_loss: 0.2072 - val_acc: 0.9230\n",
      "Epoch 13/30\n",
      "100/100 [==============================] - 447s 4s/step - loss: 0.1748 - acc: 0.9275 - val_loss: 0.1922 - val_acc: 0.9230\n",
      "Epoch 14/30\n",
      "100/100 [==============================] - 421s 4s/step - loss: 0.1759 - acc: 0.9340 - val_loss: 0.1955 - val_acc: 0.9200\n",
      "Epoch 15/30\n",
      "100/100 [==============================] - 418s 4s/step - loss: 0.1668 - acc: 0.9285 - val_loss: 0.1857 - val_acc: 0.9250\n",
      "Epoch 16/30\n",
      "100/100 [==============================] - 415s 4s/step - loss: 0.1571 - acc: 0.9410 - val_loss: 0.2310 - val_acc: 0.9110\n",
      "Epoch 17/30\n",
      "100/100 [==============================] - 414s 4s/step - loss: 0.1543 - acc: 0.9410 - val_loss: 0.1842 - val_acc: 0.9240\n",
      "Epoch 18/30\n",
      "100/100 [==============================] - 414s 4s/step - loss: 0.1444 - acc: 0.9410 - val_loss: 0.2478 - val_acc: 0.9040\n",
      "Epoch 19/30\n",
      "100/100 [==============================] - 415s 4s/step - loss: 0.1358 - acc: 0.9435 - val_loss: 0.2050 - val_acc: 0.9330\n",
      "Epoch 20/30\n",
      "100/100 [==============================] - 415s 4s/step - loss: 0.1414 - acc: 0.9440 - val_loss: 0.2251 - val_acc: 0.9120\n",
      "Epoch 21/30\n",
      "100/100 [==============================] - 414s 4s/step - loss: 0.1593 - acc: 0.9320 - val_loss: 0.1933 - val_acc: 0.9240\n",
      "Epoch 22/30\n",
      "100/100 [==============================] - 415s 4s/step - loss: 0.1225 - acc: 0.9520 - val_loss: 0.1950 - val_acc: 0.9230\n",
      "Epoch 23/30\n",
      "100/100 [==============================] - 415s 4s/step - loss: 0.1262 - acc: 0.9485 - val_loss: 0.1910 - val_acc: 0.9290\n",
      "Epoch 24/30\n",
      "100/100 [==============================] - 415s 4s/step - loss: 0.1294 - acc: 0.9515 - val_loss: 0.1944 - val_acc: 0.9300\n",
      "Epoch 25/30\n",
      "100/100 [==============================] - 415s 4s/step - loss: 0.1134 - acc: 0.9535 - val_loss: 0.2231 - val_acc: 0.9140\n",
      "Epoch 26/30\n",
      "100/100 [==============================] - 416s 4s/step - loss: 0.1064 - acc: 0.9575 - val_loss: 0.2156 - val_acc: 0.9180\n",
      "Epoch 27/30\n",
      "100/100 [==============================] - 416s 4s/step - loss: 0.1244 - acc: 0.9495 - val_loss: 0.1994 - val_acc: 0.9270\n",
      "Epoch 28/30\n",
      "100/100 [==============================] - 416s 4s/step - loss: 0.0975 - acc: 0.9640 - val_loss: 0.1947 - val_acc: 0.9280\n",
      "Epoch 29/30\n",
      "100/100 [==============================] - 416s 4s/step - loss: 0.1079 - acc: 0.9555 - val_loss: 0.2161 - val_acc: 0.9260\n",
      "Epoch 30/30\n",
      "100/100 [==============================] - 417s 4s/step - loss: 0.1128 - acc: 0.9575 - val_loss: 0.1952 - val_acc: 0.9310\n"
     ]
    }
   ],
   "source": [
    "# # train mode\n",
    "# history = model.fit_generator(train_generator,\n",
    "#                              steps_per_epoch=100,\n",
    "#                              epochs=30,\n",
    "#                              validation_data=validation_generator,\n",
    "#                              validation_steps=50)"
   ]
  },
  {
   "cell_type": "code",
   "execution_count": 13,
   "metadata": {},
   "outputs": [],
   "source": [
    "# # save model weights\n",
    "# model.save_weights('models/cats_and_dog_finetuned_weights.h5')\n",
    "\n",
    "# # save model architecture\n",
    "# with open('models/cats_and_dog_finetuned_architecture.json','w') as f:\n",
    "#     f.write(model.to_json())\n",
    "    \n",
    "# # # save model training history\n",
    "# pd.DataFrame(history.history).to_csv('models/cats_and_dog_finetuned.csv',index=False)"
   ]
  },
  {
   "cell_type": "code",
   "execution_count": null,
   "metadata": {},
   "outputs": [],
   "source": [
    "# # Preferred way to load model\n",
    "# load model architecture\n",
    "with open('models/cats_and_dog_finetuned_architecture.json','r') as f:\n",
    "    model = models.model_from_json(f.read())\n",
    "    \n",
    "# load weights into the model\n",
    "model.load_weights('models/cats_and_dog_finetuned_weights.h5')\n",
    "\n",
    "# load model training history\n",
    "history = pd.read_csv('models/cats_and_dog_finetuned.csv')"
   ]
  },
  {
   "cell_type": "code",
   "execution_count": 20,
   "metadata": {},
   "outputs": [
    {
     "data": {
      "image/png": "[encoded data removed]",
      "text/plain": [
       "<Figure size 432x288 with 1 Axes>"
      ]
     },
     "metadata": {
      "needs_background": "light"
     },
     "output_type": "display_data"
    },
    {
     "data": {
      "image/png": "[encoded data removed]",
      "text/plain": [
       "<Figure size 432x288 with 1 Axes>"
      ]
     },
     "metadata": {
      "needs_background": "light"
     },
     "output_type": "display_data"
    }
   ],
   "source": [
    "#  plot\n",
    "\n",
    "acc = history.history['acc']\n",
    "val_acc = history.history['val_acc']\n",
    "loss = history.history['loss']\n",
    "val_loss = history.history['val_loss']\n",
    "\n",
    "epochs = range(1, len(acc)+1)\n",
    "\n",
    "plt.plot(epochs, acc, 'b', label='Training Accuracy')\n",
    "plt.plot(epochs, val_acc, 'r', label='Validation Accuracy')\n",
    "plt.title('Training and Validation Accuracy')\n",
    "plt.legend()\n",
    "\n",
    "plt.figure()\n",
    "plt.plot(epochs, loss, 'b', label='Training Loss')\n",
    "plt.plot(epochs, val_loss, 'r', label='Validation Loss')\n",
    "plt.title('Training and Validation loss')\n",
    "plt.legend();"
   ]
  },
  {
   "cell_type": "code",
   "execution_count": 21,
   "metadata": {},
   "outputs": [
    {
     "data": {
      "image/png": "[encoded data removed]",
      "text/plain": [
       "<Figure size 432x288 with 1 Axes>"
      ]
     },
     "metadata": {
      "needs_background": "light"
     },
     "output_type": "display_data"
    },
    {
     "data": {
      "image/png": "[encoded data removed]",
      "text/plain": [
       "<Figure size 432x288 with 1 Axes>"
      ]
     },
     "metadata": {
      "needs_background": "light"
     },
     "output_type": "display_data"
    }
   ],
   "source": [
    "# smoothed curve\n",
    "def smooth_curve(points, factor=0.8):\n",
    "    smoothed_points = []\n",
    "    for point in points:\n",
    "        if smoothed_points:\n",
    "            previous = smoothed_points[-1]\n",
    "            smoothed_points.append(previous*factor + point*(1-factor))\n",
    "        else:\n",
    "            smoothed_points.append(point)\n",
    "    return smoothed_points\n",
    "\n",
    "plt.plot(epochs, smooth_curve(acc), 'b', label='Smoothed Training Accuracy')\n",
    "plt.plot(epochs, smooth_curve(val_acc), 'r', label='Smoothed Validation Accuracy')\n",
    "plt.title('Training and Validation Accuracy')\n",
    "plt.legend()\n",
    "\n",
    "plt.figure()\n",
    "plt.plot(epochs, smooth_curve(loss), 'b', label='Smoothed Training Loss')\n",
    "plt.plot(epochs, smooth_curve(val_loss), 'r', label='Smoothed Validation Loss')\n",
    "plt.title('Training and Validation loss')\n",
    "plt.legend();"
   ]
  },
  {
   "cell_type": "code",
   "execution_count": 14,
   "metadata": {},
   "outputs": [
    {
     "name": "stdout",
     "output_type": "stream",
     "text": [
      "Test Loss: 0.20873148397775368\n",
      "Test Accuracy: 0.9279999947547912\n"
     ]
    }
   ],
   "source": [
    "test_loss, test_acc = model.evaluate_generator(test_generator,steps=50)\n",
    "print('Test Loss:',test_loss)\n",
    "print('Test Accuracy:', test_acc)"
   ]
  },
  {
   "cell_type": "code",
   "execution_count": null,
   "metadata": {},
   "outputs": [],
   "source": []
  }
 ],
 "metadata": {
  "kernelspec": {
   "display_name": "Python 3",
   "language": "python",
   "name": "python3"
  },
  "language_info": {
   "codemirror_mode": {
    "name": "ipython",
    "version": 3
   },
   "file_extension": ".py",
   "mimetype": "text/x-python",
   "name": "python",
   "nbconvert_exporter": "python",
   "pygments_lexer": "ipython3",
   "version": "3.6.7"
  }
 },
 "nbformat": 4,
 "nbformat_minor": 2
}
