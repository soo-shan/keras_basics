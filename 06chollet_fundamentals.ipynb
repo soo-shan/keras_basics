{
 "cells": [
  {
   "cell_type": "code",
   "execution_count": 1,
   "metadata": {},
   "outputs": [],
   "source": [
    "import numpy as np\n",
    "import pandas as pd\n",
    "import matplotlib.pyplot as plt\n",
    "import seaborn as sns\n",
    "\n",
    "import tensorflow as tf\n"
   ]
  },
  {
   "cell_type": "code",
   "execution_count": 2,
   "metadata": {},
   "outputs": [],
   "source": [
    "data = list(np.random.random([5,5]))"
   ]
  },
  {
   "cell_type": "code",
   "execution_count": 3,
   "metadata": {},
   "outputs": [],
   "source": [
    "# hold out validation code snipped\n",
    "\n",
    "# num_validation_samples = 10000\n",
    "# np.random.shuffle(data)\n",
    "# validation_data = data[:num_validation_samples]\n",
    "# data = data[num_validation_samples:]\n",
    "# training_data = data[:]\n",
    "# model = get_model()\n",
    "# model.train(training_data)\n",
    "# validation_score = model.evaluate(validation_data)\n",
    "# # At this point you can tune your model,\n",
    "# # retrain it, evaluate it, tune it again...\n",
    "# model = get_model()\n",
    "# model.train(np.concatenate([training_data,\n",
    "# validation_data]))\n",
    "# test_score = model.evaluate(test_data)"
   ]
  },
  {
   "cell_type": "code",
   "execution_count": 4,
   "metadata": {},
   "outputs": [],
   "source": [
    "# # k-fold validation code snipped\n",
    "\n",
    "# k=4\n",
    "# num_validation_samples = len(data) // k\n",
    "# np.random.shuffle(data)\n",
    "# validation_scores = []\n",
    "# for fold in range(k):\n",
    "#     validation_data = data[num_validation_samples*fold:\n",
    "#                            num_validation_samples*(fold+1)]\n",
    "#     training_data = data[:num_validation_samples*fold] + data[num_validation_samples*(fold+1):]\n",
    "#     model = get_model()\n",
    "#     model.train(training_data)\n",
    "#     validation_score = model.evaluate(validation_data)\n",
    "#     validation_scores.append(validation_score\n",
    "# validation_score = np.average(validation_scores)\n",
    "# model = get_model()\n",
    "# model.train(data)\n",
    "# test_score = model.evaluate(test_data)"
   ]
  },
  {
   "cell_type": "code",
   "execution_count": 5,
   "metadata": {},
   "outputs": [],
   "source": [
    "# # code snipped for l2 weight regularization\n",
    "\n",
    "# from keras import regularizers\n",
    "# model = models.Sequential()\n",
    "# model.add(layers.Dense(16, kernel_regularizer=regularizers.l2(0.001),\n",
    "# activation='relu', input_shape=(10000,)))\n",
    "# model.add(layers.Dense(16, kernel_regularizer=regularizers.l2(0.001),\n",
    "# activation='relu'))\n",
    "# model.add(layers.Dense(1, activation='sigmoid'))"
   ]
  },
  {
   "cell_type": "code",
   "execution_count": null,
   "metadata": {},
   "outputs": [],
   "source": []
  },
  {
   "cell_type": "code",
   "execution_count": null,
   "metadata": {},
   "outputs": [],
   "source": []
  },
  {
   "cell_type": "code",
   "execution_count": null,
   "metadata": {},
   "outputs": [],
   "source": []
  },
  {
   "cell_type": "code",
   "execution_count": null,
   "metadata": {},
   "outputs": [],
   "source": []
  },
  {
   "cell_type": "code",
   "execution_count": null,
   "metadata": {},
   "outputs": [],
   "source": []
  },
  {
   "cell_type": "code",
   "execution_count": null,
   "metadata": {},
   "outputs": [],
   "source": []
  },
  {
   "cell_type": "code",
   "execution_count": null,
   "metadata": {},
   "outputs": [],
   "source": []
  }
 ],
 "metadata": {
  "kernelspec": {
   "display_name": "Python 3",
   "language": "python",
   "name": "python3"
  },
  "language_info": {
   "codemirror_mode": {
    "name": "ipython",
    "version": 3
   },
   "file_extension": ".py",
   "mimetype": "text/x-python",
   "name": "python",
   "nbconvert_exporter": "python",
   "pygments_lexer": "ipython3",
   "version": "3.6.7"
  }
 },
 "nbformat": 4,
 "nbformat_minor": 2
}
