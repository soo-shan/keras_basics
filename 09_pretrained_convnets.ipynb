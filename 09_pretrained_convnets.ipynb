{
 "cells": [
  {
   "cell_type": "code",
   "execution_count": 1,
   "metadata": {},
   "outputs": [
    {
     "name": "stderr",
     "output_type": "stream",
     "text": [
      "Using TensorFlow backend.\n"
     ]
    }
   ],
   "source": [
    "import numpy as np\n",
    "import pandas as pd\n",
    "import matplotlib.pyplot as plt\n",
    "\n",
    "from keras.applications import VGG16\n",
    "from keras.preprocessing.image import ImageDataGenerator\n",
    "\n",
    "from keras import models,layers,optimizers\n",
    "\n",
    "import os\n",
    "\n",
    "import warnings\n",
    "warnings.filterwarnings(\"ignore\", \"(Possibly )?corrupt EXIF data\", UserWarning)"
   ]
  },
  {
   "cell_type": "code",
   "execution_count": 2,
   "metadata": {},
   "outputs": [],
   "source": [
    "# instantiate VGG16 model\n",
    "conv_base = VGG16(weights='imagenet',\n",
    "                  include_top=False,\n",
    "                  input_shape=(150,150,3))\n"
   ]
  },
  {
   "cell_type": "code",
   "execution_count": 3,
   "metadata": {},
   "outputs": [
    {
     "name": "stdout",
     "output_type": "stream",
     "text": [
      "_________________________________________________________________\n",
      "Layer (type)                 Output Shape              Param #   \n",
      "=================================================================\n",
      "input_1 (InputLayer)         (None, 150, 150, 3)       0         \n",
      "_________________________________________________________________\n",
      "block1_conv1 (Conv2D)        (None, 150, 150, 64)      1792      \n",
      "_________________________________________________________________\n",
      "block1_conv2 (Conv2D)        (None, 150, 150, 64)      36928     \n",
      "_________________________________________________________________\n",
      "block1_pool (MaxPooling2D)   (None, 75, 75, 64)        0         \n",
      "_________________________________________________________________\n",
      "block2_conv1 (Conv2D)        (None, 75, 75, 128)       73856     \n",
      "_________________________________________________________________\n",
      "block2_conv2 (Conv2D)        (None, 75, 75, 128)       147584    \n",
      "_________________________________________________________________\n",
      "block2_pool (MaxPooling2D)   (None, 37, 37, 128)       0         \n",
      "_________________________________________________________________\n",
      "block3_conv1 (Conv2D)        (None, 37, 37, 256)       295168    \n",
      "_________________________________________________________________\n",
      "block3_conv2 (Conv2D)        (None, 37, 37, 256)       590080    \n",
      "_________________________________________________________________\n",
      "block3_conv3 (Conv2D)        (None, 37, 37, 256)       590080    \n",
      "_________________________________________________________________\n",
      "block3_pool (MaxPooling2D)   (None, 18, 18, 256)       0         \n",
      "_________________________________________________________________\n",
      "block4_conv1 (Conv2D)        (None, 18, 18, 512)       1180160   \n",
      "_________________________________________________________________\n",
      "block4_conv2 (Conv2D)        (None, 18, 18, 512)       2359808   \n",
      "_________________________________________________________________\n",
      "block4_conv3 (Conv2D)        (None, 18, 18, 512)       2359808   \n",
      "_________________________________________________________________\n",
      "block4_pool (MaxPooling2D)   (None, 9, 9, 512)         0         \n",
      "_________________________________________________________________\n",
      "block5_conv1 (Conv2D)        (None, 9, 9, 512)         2359808   \n",
      "_________________________________________________________________\n",
      "block5_conv2 (Conv2D)        (None, 9, 9, 512)         2359808   \n",
      "_________________________________________________________________\n",
      "block5_conv3 (Conv2D)        (None, 9, 9, 512)         2359808   \n",
      "_________________________________________________________________\n",
      "block5_pool (MaxPooling2D)   (None, 4, 4, 512)         0         \n",
      "=================================================================\n",
      "Total params: 14,714,688\n",
      "Trainable params: 14,714,688\n",
      "Non-trainable params: 0\n",
      "_________________________________________________________________\n"
     ]
    }
   ],
   "source": [
    "conv_base.summary()"
   ]
  },
  {
   "cell_type": "markdown",
   "metadata": {},
   "source": [
    "### Approach 1\n",
    "### Fast feature extraction without data augmentation"
   ]
  },
  {
   "cell_type": "code",
   "execution_count": 4,
   "metadata": {},
   "outputs": [],
   "source": [
    "# Approach 1\n",
    "\n",
    "\n",
    "base_dir = 'data/cats_and_dogs_small'\n",
    "\n",
    "train_dir = os.path.join(base_dir,'train')\n",
    "validation_dir = os.path.join(base_dir,'validation')\n",
    "test_dir = os.path.join(base_dir,'test')\n",
    "\n",
    "datagen = ImageDataGenerator(rescale=1./255)\n",
    "batch_size = 20\n",
    "\n",
    "def extract_features(directory,sample_count):\n",
    "    features = np.zeros(shape=(sample_count, 4, 4, 512 )) # last layer of VGG16\n",
    "    labels = np.zeros(shape=(sample_count))\n",
    "    generator = datagen.flow_from_directory(directory,\n",
    "                        target_size=(150,150),\n",
    "                        batch_size=batch_size,\n",
    "                        class_mode='binary')\n",
    "    i = 0 \n",
    "    for inputs_batch, labels_batch in generator:\n",
    "        features_batch = conv_base.predict(inputs_batch)\n",
    "        features[i*batch_size:(i+1)*batch_size] = features_batch\n",
    "        labels[i*batch_size:(i+1)*batch_size] = labels_batch\n",
    "        i+=1\n",
    "        if i*batch_size >= sample_count:\n",
    "            break\n",
    "    return features, labels"
   ]
  },
  {
   "cell_type": "code",
   "execution_count": 5,
   "metadata": {
    "scrolled": true
   },
   "outputs": [
    {
     "name": "stdout",
     "output_type": "stream",
     "text": [
      "Found 2000 images belonging to 2 classes.\n",
      "Found 1000 images belonging to 2 classes.\n",
      "Found 1000 images belonging to 2 classes.\n"
     ]
    }
   ],
   "source": [
    "train_features, train_labels = extract_features(train_dir, 2000)\n",
    "validation_features, validation_labels = extract_features(validation_dir,1000)\n",
    "test_features, test_labels = extract_features(test_dir, 1000)"
   ]
  },
  {
   "cell_type": "code",
   "execution_count": 6,
   "metadata": {},
   "outputs": [],
   "source": [
    "# reshape features for densely connected classifier\n",
    "train_features = train_features.reshape(2000,4*4*512)\n",
    "validation_features = validation_features.reshape(1000,4*4*512)\n",
    "test_features = test_features.reshape(1000,4*4*512)"
   ]
  },
  {
   "cell_type": "code",
   "execution_count": 7,
   "metadata": {},
   "outputs": [
    {
     "name": "stdout",
     "output_type": "stream",
     "text": [
      "_________________________________________________________________\n",
      "Layer (type)                 Output Shape              Param #   \n",
      "=================================================================\n",
      "dense_1 (Dense)              (None, 256)               2097408   \n",
      "_________________________________________________________________\n",
      "dropout_1 (Dropout)          (None, 256)               0         \n",
      "_________________________________________________________________\n",
      "dense_2 (Dense)              (None, 1)                 257       \n",
      "=================================================================\n",
      "Total params: 2,097,665\n",
      "Trainable params: 2,097,665\n",
      "Non-trainable params: 0\n",
      "_________________________________________________________________\n"
     ]
    }
   ],
   "source": [
    "# Define densly connected classifier\n",
    "model = models.Sequential()\n",
    "\n",
    "model.add(layers.Dense(256,activation='relu',input_dim=4*4*512))\n",
    "\n",
    "model.add(layers.Dropout(0.5))\n",
    "\n",
    "model.add(layers.Dense(1,activation='sigmoid'))\n",
    "\n",
    "model.summary()"
   ]
  },
  {
   "cell_type": "code",
   "execution_count": 8,
   "metadata": {},
   "outputs": [],
   "source": [
    "model.compile(optimizer=optimizers.RMSprop(lr=2e-5),\n",
    "              loss='binary_crossentropy',\n",
    "              metrics=['acc'])"
   ]
  },
  {
   "cell_type": "code",
   "execution_count": 9,
   "metadata": {
    "scrolled": true
   },
   "outputs": [
    {
     "name": "stdout",
     "output_type": "stream",
     "text": [
      "Train on 2000 samples, validate on 1000 samples\n",
      "Epoch 1/30\n",
      "2000/2000 [==============================] - 6s 3ms/step - loss: 0.5877 - acc: 0.6895 - val_loss: 0.4430 - val_acc: 0.8170\n",
      "Epoch 2/30\n",
      "2000/2000 [==============================] - 4s 2ms/step - loss: 0.4251 - acc: 0.8065 - val_loss: 0.3646 - val_acc: 0.8490\n",
      "Epoch 3/30\n",
      "2000/2000 [==============================] - 4s 2ms/step - loss: 0.3587 - acc: 0.8550 - val_loss: 0.3200 - val_acc: 0.8800\n",
      "Epoch 4/30\n",
      "2000/2000 [==============================] - 4s 2ms/step - loss: 0.3178 - acc: 0.8760 - val_loss: 0.2968 - val_acc: 0.8850\n",
      "Epoch 5/30\n",
      "2000/2000 [==============================] - 4s 2ms/step - loss: 0.2911 - acc: 0.8800 - val_loss: 0.2864 - val_acc: 0.8930\n",
      "Epoch 6/30\n",
      "2000/2000 [==============================] - 4s 2ms/step - loss: 0.2725 - acc: 0.8820 - val_loss: 0.2718 - val_acc: 0.8950\n",
      "Epoch 7/30\n",
      "2000/2000 [==============================] - 4s 2ms/step - loss: 0.2447 - acc: 0.9045 - val_loss: 0.2715 - val_acc: 0.8900\n",
      "Epoch 8/30\n",
      "2000/2000 [==============================] - 4s 2ms/step - loss: 0.2383 - acc: 0.9005 - val_loss: 0.2577 - val_acc: 0.8960\n",
      "Epoch 9/30\n",
      "2000/2000 [==============================] - 4s 2ms/step - loss: 0.2173 - acc: 0.9120 - val_loss: 0.2532 - val_acc: 0.9020\n",
      "Epoch 10/30\n",
      "2000/2000 [==============================] - 5s 2ms/step - loss: 0.2117 - acc: 0.9155 - val_loss: 0.2532 - val_acc: 0.9070\n",
      "Epoch 11/30\n",
      "2000/2000 [==============================] - 4s 2ms/step - loss: 0.2032 - acc: 0.9280 - val_loss: 0.2546 - val_acc: 0.8950\n",
      "Epoch 12/30\n",
      "2000/2000 [==============================] - 4s 2ms/step - loss: 0.1854 - acc: 0.9330 - val_loss: 0.2435 - val_acc: 0.9060\n",
      "Epoch 13/30\n",
      "2000/2000 [==============================] - 4s 2ms/step - loss: 0.1763 - acc: 0.9385 - val_loss: 0.2488 - val_acc: 0.8940\n",
      "Epoch 14/30\n",
      "2000/2000 [==============================] - 4s 2ms/step - loss: 0.1685 - acc: 0.9410 - val_loss: 0.2529 - val_acc: 0.8910\n",
      "Epoch 15/30\n",
      "2000/2000 [==============================] - 4s 2ms/step - loss: 0.1672 - acc: 0.9410 - val_loss: 0.2371 - val_acc: 0.9100\n",
      "Epoch 16/30\n",
      "2000/2000 [==============================] - 4s 2ms/step - loss: 0.1577 - acc: 0.9495 - val_loss: 0.2350 - val_acc: 0.9100\n",
      "Epoch 17/30\n",
      "2000/2000 [==============================] - 4s 2ms/step - loss: 0.1495 - acc: 0.9490 - val_loss: 0.2331 - val_acc: 0.9110\n",
      "Epoch 18/30\n",
      "2000/2000 [==============================] - 4s 2ms/step - loss: 0.1394 - acc: 0.9510 - val_loss: 0.2390 - val_acc: 0.9050\n",
      "Epoch 19/30\n",
      "2000/2000 [==============================] - 5s 2ms/step - loss: 0.1356 - acc: 0.9530 - val_loss: 0.2357 - val_acc: 0.9070\n",
      "Epoch 20/30\n",
      "2000/2000 [==============================] - 4s 2ms/step - loss: 0.1342 - acc: 0.9515 - val_loss: 0.2313 - val_acc: 0.9110\n",
      "Epoch 21/30\n",
      "2000/2000 [==============================] - 4s 2ms/step - loss: 0.1232 - acc: 0.9595 - val_loss: 0.2317 - val_acc: 0.9110\n",
      "Epoch 22/30\n",
      "2000/2000 [==============================] - 4s 2ms/step - loss: 0.1243 - acc: 0.9540 - val_loss: 0.2331 - val_acc: 0.9100\n",
      "Epoch 23/30\n",
      "2000/2000 [==============================] - 4s 2ms/step - loss: 0.1223 - acc: 0.9550 - val_loss: 0.2309 - val_acc: 0.9100\n",
      "Epoch 24/30\n",
      "2000/2000 [==============================] - 4s 2ms/step - loss: 0.1100 - acc: 0.9625 - val_loss: 0.2352 - val_acc: 0.9070\n",
      "Epoch 25/30\n",
      "2000/2000 [==============================] - 4s 2ms/step - loss: 0.1078 - acc: 0.9685 - val_loss: 0.2341 - val_acc: 0.9100\n",
      "Epoch 26/30\n",
      "2000/2000 [==============================] - 4s 2ms/step - loss: 0.1046 - acc: 0.9655 - val_loss: 0.2321 - val_acc: 0.9080\n",
      "Epoch 27/30\n",
      "2000/2000 [==============================] - 4s 2ms/step - loss: 0.0996 - acc: 0.9640 - val_loss: 0.2353 - val_acc: 0.9070\n",
      "Epoch 28/30\n",
      "2000/2000 [==============================] - 4s 2ms/step - loss: 0.0995 - acc: 0.9650 - val_loss: 0.2320 - val_acc: 0.9120\n",
      "Epoch 29/30\n",
      "2000/2000 [==============================] - 4s 2ms/step - loss: 0.0916 - acc: 0.9700 - val_loss: 0.2325 - val_acc: 0.9090\n",
      "Epoch 30/30\n",
      "2000/2000 [==============================] - 4s 2ms/step - loss: 0.0877 - acc: 0.9725 - val_loss: 0.2347 - val_acc: 0.9090\n"
     ]
    }
   ],
   "source": [
    "history = model.fit(train_features,train_labels,\n",
    "                    epochs=30,\n",
    "                    batch_size=20,\n",
    "                    validation_data=(validation_features,validation_labels))\n"
   ]
  },
  {
   "cell_type": "code",
   "execution_count": 10,
   "metadata": {},
   "outputs": [
    {
     "data": {
      "text/plain": [
       "<matplotlib.legend.Legend at 0x7f9e8dd47dd8>"
      ]
     },
     "execution_count": 10,
     "metadata": {},
     "output_type": "execute_result"
    },
    {
     "data": {
      "image/png": "[encoded data removed]",
      "text/plain": [
       "<Figure size 432x288 with 1 Axes>"
      ]
     },
     "metadata": {
      "needs_background": "light"
     },
     "output_type": "display_data"
    },
    {
     "data": {
      "image/png": "[encoded data removed]",
      "text/plain": [
       "<Figure size 432x288 with 1 Axes>"
      ]
     },
     "metadata": {
      "needs_background": "light"
     },
     "output_type": "display_data"
    }
   ],
   "source": [
    "#  plot\n",
    "\n",
    "acc = history.history['acc']\n",
    "val_acc = history.history['val_acc']\n",
    "loss = history.history['loss']\n",
    "val_loss = history.history['val_loss']\n",
    "\n",
    "epochs = range(1, len(acc)+1)\n",
    "\n",
    "plt.plot(epochs, acc, 'b', label='Training Accuracy')\n",
    "plt.plot(epochs, val_acc, 'r', label='Validation Accuracy')\n",
    "plt.title('Training and Validation Accuracy')\n",
    "plt.legend()\n",
    "\n",
    "plt.figure()\n",
    "plt.plot(epochs, loss, 'b', label='Training Loss')\n",
    "plt.plot(epochs, val_loss, 'r', label='Validation Loss')\n",
    "plt.title('Training and Validation loss')\n",
    "plt.legend()"
   ]
  },
  {
   "cell_type": "code",
   "execution_count": 11,
   "metadata": {},
   "outputs": [
    {
     "name": "stdout",
     "output_type": "stream",
     "text": [
      "1000/1000 [==============================] - 0s 261us/step\n",
      "loss : 0.2573542425632477\n",
      "acc : 0.883\n"
     ]
    }
   ],
   "source": [
    "evaluation = model.evaluate(test_features,test_labels)\n",
    "for i in range(2):\n",
    "    print(model.metrics_names[i],':',evaluation[i])\n"
   ]
  },
  {
   "cell_type": "markdown",
   "metadata": {},
   "source": [
    "### Approach 2\n",
    "### Feature Extraction with Data Augmentation"
   ]
  },
  {
   "cell_type": "code",
   "execution_count": 12,
   "metadata": {},
   "outputs": [
    {
     "name": "stdout",
     "output_type": "stream",
     "text": [
      "_________________________________________________________________\n",
      "Layer (type)                 Output Shape              Param #   \n",
      "=================================================================\n",
      "vgg16 (Model)                (None, 4, 4, 512)         14714688  \n",
      "_________________________________________________________________\n",
      "flatten_1 (Flatten)          (None, 8192)              0         \n",
      "_________________________________________________________________\n",
      "dense_3 (Dense)              (None, 256)               2097408   \n",
      "_________________________________________________________________\n",
      "dense_4 (Dense)              (None, 1)                 257       \n",
      "=================================================================\n",
      "Total params: 16,812,353\n",
      "Trainable params: 16,812,353\n",
      "Non-trainable params: 0\n",
      "_________________________________________________________________\n"
     ]
    }
   ],
   "source": [
    "# Add a densely connected classifier on top of convolutional base\n",
    "model2 = models.Sequential()\n",
    "model2.add(conv_base)\n",
    "model2.add(layers.Flatten())\n",
    "model2.add(layers.Dense(256, activation='relu'))\n",
    "model2.add(layers.Dense(1,activation='sigmoid'))\n",
    "\n",
    "model2.summary()"
   ]
  },
  {
   "cell_type": "code",
   "execution_count": 13,
   "metadata": {},
   "outputs": [
    {
     "name": "stdout",
     "output_type": "stream",
     "text": [
      "_________________________________________________________________\n",
      "Layer (type)                 Output Shape              Param #   \n",
      "=================================================================\n",
      "vgg16 (Model)                (None, 4, 4, 512)         14714688  \n",
      "_________________________________________________________________\n",
      "flatten_1 (Flatten)          (None, 8192)              0         \n",
      "_________________________________________________________________\n",
      "dense_3 (Dense)              (None, 256)               2097408   \n",
      "_________________________________________________________________\n",
      "dense_4 (Dense)              (None, 1)                 257       \n",
      "=================================================================\n",
      "Total params: 16,812,353\n",
      "Trainable params: 2,097,665\n",
      "Non-trainable params: 14,714,688\n",
      "_________________________________________________________________\n"
     ]
    }
   ],
   "source": [
    "# Freeze weights for conv_base\n",
    "conv_base.trainable = False\n",
    "\n",
    "model2.summary()"
   ]
  },
  {
   "cell_type": "code",
   "execution_count": 14,
   "metadata": {},
   "outputs": [],
   "source": [
    "# data preparation\n",
    "# train_datagen = ImageDa"
   ]
  },
  {
   "cell_type": "code",
   "execution_count": 17,
   "metadata": {},
   "outputs": [
    {
     "name": "stdout",
     "output_type": "stream",
     "text": [
      "Found 2000 images belonging to 2 classes.\n",
      "Found 1000 images belonging to 2 classes.\n"
     ]
    }
   ],
   "source": [
    "# data preparation\n",
    "train_datagen = ImageDataGenerator(rescale=1./255,\n",
    "                          rotation_range=40,\n",
    "                          width_shift_range=0.2,\n",
    "                          height_shift_range=0.2,\n",
    "                          shear_range=0.2,\n",
    "                          zoom_range=0.2,\n",
    "                          horizontal_flip=True,\n",
    "                          fill_mode='nearest')\n",
    "test_datagen = ImageDataGenerator(rescale=1./255)\n",
    "\n",
    "train_generator = train_datagen.flow_from_directory(train_dir,\n",
    "                           target_size=(150,150),\n",
    "                           batch_size=20,\n",
    "                           class_mode='binary')\n",
    "\n",
    "validation_generator = test_datagen.flow_from_directory(validation_dir,\n",
    "                           target_size=(150,150),\n",
    "                           batch_size=20,\n",
    "                           class_mode='binary')"
   ]
  },
  {
   "cell_type": "code",
   "execution_count": 18,
   "metadata": {
    "scrolled": true
   },
   "outputs": [
    {
     "name": "stdout",
     "output_type": "stream",
     "text": [
      "Epoch 1/30\n",
      "100/100 [==============================] - 408s 4s/step - loss: 0.5963 - acc: 0.6800 - val_loss: 0.4587 - val_acc: 0.8190\n",
      "Epoch 2/30\n",
      "100/100 [==============================] - 430s 4s/step - loss: 0.4918 - acc: 0.7790 - val_loss: 0.3750 - val_acc: 0.8630\n",
      "Epoch 3/30\n",
      "100/100 [==============================] - 422s 4s/step - loss: 0.4323 - acc: 0.8060 - val_loss: 0.3338 - val_acc: 0.8730\n",
      "Epoch 4/30\n",
      "100/100 [==============================] - 411s 4s/step - loss: 0.3990 - acc: 0.8240 - val_loss: 0.3122 - val_acc: 0.8740\n",
      "Epoch 5/30\n",
      "100/100 [==============================] - 396s 4s/step - loss: 0.3828 - acc: 0.8245 - val_loss: 0.2924 - val_acc: 0.8850\n",
      "Epoch 6/30\n",
      "100/100 [==============================] - 396s 4s/step - loss: 0.3815 - acc: 0.8265 - val_loss: 0.2835 - val_acc: 0.8910\n",
      "Epoch 7/30\n",
      "100/100 [==============================] - 396s 4s/step - loss: 0.3572 - acc: 0.8380 - val_loss: 0.2865 - val_acc: 0.8830\n",
      "Epoch 8/30\n",
      "100/100 [==============================] - 397s 4s/step - loss: 0.3588 - acc: 0.8375 - val_loss: 0.2676 - val_acc: 0.8970\n",
      "Epoch 9/30\n",
      "100/100 [==============================] - 396s 4s/step - loss: 0.3404 - acc: 0.8620 - val_loss: 0.2702 - val_acc: 0.8810\n",
      "Epoch 10/30\n",
      "100/100 [==============================] - 396s 4s/step - loss: 0.3394 - acc: 0.8435 - val_loss: 0.2600 - val_acc: 0.8930\n",
      "Epoch 11/30\n",
      "100/100 [==============================] - 396s 4s/step - loss: 0.3292 - acc: 0.8510 - val_loss: 0.2588 - val_acc: 0.8880\n",
      "Epoch 12/30\n",
      "100/100 [==============================] - 396s 4s/step - loss: 0.3237 - acc: 0.8575 - val_loss: 0.2519 - val_acc: 0.8960\n",
      "Epoch 13/30\n",
      "100/100 [==============================] - 395s 4s/step - loss: 0.3092 - acc: 0.8670 - val_loss: 0.2505 - val_acc: 0.8920\n",
      "Epoch 14/30\n",
      "100/100 [==============================] - 396s 4s/step - loss: 0.3157 - acc: 0.8635 - val_loss: 0.2492 - val_acc: 0.8870\n",
      "Epoch 15/30\n",
      "100/100 [==============================] - 395s 4s/step - loss: 0.3079 - acc: 0.8610 - val_loss: 0.2579 - val_acc: 0.8880\n",
      "Epoch 16/30\n",
      "100/100 [==============================] - 395s 4s/step - loss: 0.3088 - acc: 0.8610 - val_loss: 0.2446 - val_acc: 0.8920\n",
      "Epoch 17/30\n",
      "100/100 [==============================] - 395s 4s/step - loss: 0.3255 - acc: 0.8535 - val_loss: 0.2421 - val_acc: 0.8910\n",
      "Epoch 18/30\n",
      "100/100 [==============================] - 396s 4s/step - loss: 0.3084 - acc: 0.8655 - val_loss: 0.2441 - val_acc: 0.8960\n",
      "Epoch 19/30\n",
      "100/100 [==============================] - 395s 4s/step - loss: 0.2996 - acc: 0.8675 - val_loss: 0.2405 - val_acc: 0.8960\n",
      "Epoch 20/30\n",
      "100/100 [==============================] - 395s 4s/step - loss: 0.3096 - acc: 0.8680 - val_loss: 0.2559 - val_acc: 0.8970\n",
      "Epoch 21/30\n",
      "100/100 [==============================] - 396s 4s/step - loss: 0.2816 - acc: 0.8830 - val_loss: 0.2451 - val_acc: 0.8950\n",
      "Epoch 22/30\n",
      "100/100 [==============================] - 395s 4s/step - loss: 0.2949 - acc: 0.8740 - val_loss: 0.2384 - val_acc: 0.9000\n",
      "Epoch 23/30\n",
      "100/100 [==============================] - 395s 4s/step - loss: 0.2919 - acc: 0.8750 - val_loss: 0.2361 - val_acc: 0.9040\n",
      "Epoch 24/30\n",
      "100/100 [==============================] - 395s 4s/step - loss: 0.2892 - acc: 0.8770 - val_loss: 0.2386 - val_acc: 0.8970\n",
      "Epoch 25/30\n",
      "100/100 [==============================] - 395s 4s/step - loss: 0.2816 - acc: 0.8760 - val_loss: 0.2401 - val_acc: 0.8970\n",
      "Epoch 26/30\n",
      "100/100 [==============================] - 395s 4s/step - loss: 0.2957 - acc: 0.8715 - val_loss: 0.2401 - val_acc: 0.9040\n",
      "Epoch 27/30\n",
      "100/100 [==============================] - 395s 4s/step - loss: 0.2908 - acc: 0.8700 - val_loss: 0.2343 - val_acc: 0.9010\n",
      "Epoch 28/30\n",
      "100/100 [==============================] - 407s 4s/step - loss: 0.2863 - acc: 0.8795 - val_loss: 0.2348 - val_acc: 0.9010\n",
      "Epoch 29/30\n",
      "100/100 [==============================] - 405s 4s/step - loss: 0.2797 - acc: 0.8785 - val_loss: 0.2376 - val_acc: 0.8960\n",
      "Epoch 30/30\n",
      "100/100 [==============================] - 424s 4s/step - loss: 0.2933 - acc: 0.8770 - val_loss: 0.2355 - val_acc: 0.9030\n"
     ]
    }
   ],
   "source": [
    "# model2.compile(loss='binary_crossentropy',\n",
    "#                optimizer=optimizers.RMSprop(lr=2e-5),\n",
    "#                metrics=['acc'])\n",
    "\n",
    "# history2 = model2.fit_generator(train_generator,\n",
    "#                                steps_per_epoch=100,\n",
    "#                                epochs=30,\n",
    "#                                validation_data=validation_generator,\n",
    "#                                validation_steps=50)"
   ]
  },
  {
   "cell_type": "code",
   "execution_count": 23,
   "metadata": {},
   "outputs": [],
   "source": [
    "# # save model\n",
    "# model2.save('models/cats_and_dog_VGG16_2.h5')\n",
    "# # # save model training history\n",
    "# pd.DataFrame(history2.history).to_csv('models/cats_and_dog_VGG16_2.csv',index=False)"
   ]
  },
  {
   "cell_type": "code",
   "execution_count": 25,
   "metadata": {},
   "outputs": [],
   "source": [
    "# save model weights\n",
    "model2.save_weights('models/cats_and_dog_VGG16_2_weights.h5')\n",
    "\n",
    "# save model architecture\n",
    "with open('models/cats_and_dog_VGG16_2_architecture.json','w') as f:\n",
    "    f.write(model2.to_json())"
   ]
  },
  {
   "cell_type": "code",
   "execution_count": null,
   "metadata": {},
   "outputs": [],
   "source": [
    "# # # Preferred way to load model\n",
    "# load model architecture\n",
    "with open('models/cats_and_dog_VGG16_2_architecture.json','r') as f:\n",
    "    model2 = models.model_from_json(f.read())\n",
    "    \n",
    "# load weights into the model\n",
    "model2.load_weights('models/cats_and_dog_VGG16_2_weights.h5')"
   ]
  },
  {
   "cell_type": "code",
   "execution_count": null,
   "metadata": {},
   "outputs": [],
   "source": [
    "# # # load model\n",
    "# model2 = models.load_model('models/cats_and_dog_VGG16_2.h5')\n",
    "# # loading history data\n",
    "history2 = pd.read_csv('models/cats_and_dog_VGG16_2.csv')"
   ]
  },
  {
   "cell_type": "code",
   "execution_count": 19,
   "metadata": {},
   "outputs": [
    {
     "data": {
      "image/png": "[encoded data removed]",
      "text/plain": [
       "<Figure size 432x288 with 1 Axes>"
      ]
     },
     "metadata": {
      "needs_background": "light"
     },
     "output_type": "display_data"
    },
    {
     "data": {
      "image/png": "[encoded data removed]",
      "text/plain": [
       "<Figure size 432x288 with 1 Axes>"
      ]
     },
     "metadata": {
      "needs_background": "light"
     },
     "output_type": "display_data"
    }
   ],
   "source": [
    "# plots\n",
    "acc = history2.history['acc']\n",
    "val_acc = history2.history['val_acc']\n",
    "loss = history2.history['loss']\n",
    "val_loss = history2.history['val_loss']\n",
    "\n",
    "epochs = range(1, len(acc)+1)\n",
    "\n",
    "plt.plot(epochs, acc, 'b', label='Training acc')\n",
    "plt.plot(epochs, val_acc, 'r', label='Validation acc')\n",
    "plt.title('Training and Validation accuracy')\n",
    "plt.legend()\n",
    "\n",
    "plt.figure()\n",
    "plt.plot(epochs, loss, 'b', label='Training loss')\n",
    "plt.plot(epochs, val_loss, 'r', label='Validation loss')\n",
    "plt.title('Training and Validation loss')\n",
    "plt.legend();"
   ]
  },
  {
   "cell_type": "code",
   "execution_count": 22,
   "metadata": {},
   "outputs": [
    {
     "name": "stdout",
     "output_type": "stream",
     "text": [
      "Found 1000 images belonging to 2 classes.\n",
      "loss : 0.24417253121733665\n",
      "acc : 0.9009999954700469\n"
     ]
    }
   ],
   "source": [
    "test_generator = test_datagen.flow_from_directory(test_dir,\n",
    "                           target_size=(150,150),\n",
    "                           batch_size=20,\n",
    "                           class_mode='binary')\n",
    "\n",
    "evaluation2 = model2.evaluate_generator(test_generator,\n",
    "                          steps=50)\n",
    "\n",
    "for i in range(2):\n",
    "    print(model2.metrics_names[i],':',evaluation2[i])"
   ]
  },
  {
   "cell_type": "code",
   "execution_count": null,
   "metadata": {},
   "outputs": [],
   "source": []
  }
 ],
 "metadata": {
  "kernelspec": {
   "display_name": "Python 3",
   "language": "python",
   "name": "python3"
  },
  "language_info": {
   "codemirror_mode": {
    "name": "ipython",
    "version": 3
   },
   "file_extension": ".py",
   "mimetype": "text/x-python",
   "name": "python",
   "nbconvert_exporter": "python",
   "pygments_lexer": "ipython3",
   "version": "3.6.7"
  },
  "notify_time": "30"
 },
 "nbformat": 4,
 "nbformat_minor": 2
}
