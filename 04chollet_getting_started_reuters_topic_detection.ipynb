{
 "cells": [
  {
   "cell_type": "code",
   "execution_count": 1,
   "metadata": {},
   "outputs": [
    {
     "name": "stderr",
     "output_type": "stream",
     "text": [
      "Using TensorFlow backend.\n"
     ]
    }
   ],
   "source": [
    "import numpy as np\n",
    "import pandas as pd\n",
    "import matplotlib.pyplot as plt\n",
    "import tensorflow as tf\n",
    "import seaborn as sns\n",
    "# from keras.datasets import mnist\n",
    "from keras.datasets import imdb\n",
    "from keras.datasets import reuters\n",
    "\n",
    "from keras import models\n",
    "from keras import layers\n",
    "from keras import optimizers\n",
    "from keras import losses\n",
    "from keras import metrics\n",
    "\n",
    "from keras.utils.np_utils import to_categorical\n",
    "\n",
    "plt.style.use('ggplot')\n",
    "\n",
    "%matplotlib inline"
   ]
  },
  {
   "cell_type": "markdown",
   "metadata": {},
   "source": [
    "### Single Class Multilabel classification"
   ]
  },
  {
   "cell_type": "code",
   "execution_count": 2,
   "metadata": {},
   "outputs": [],
   "source": [
    "# loading the data\n",
    "(train_data, train_labels),(test_data,test_labels) = reuters.load_data(num_words=10000)"
   ]
  },
  {
   "cell_type": "code",
   "execution_count": 3,
   "metadata": {},
   "outputs": [
    {
     "data": {
      "text/plain": [
       "(8982, 2246)"
      ]
     },
     "execution_count": 3,
     "metadata": {},
     "output_type": "execute_result"
    }
   ],
   "source": [
    "len(train_data),len(test_data)"
   ]
  },
  {
   "cell_type": "code",
   "execution_count": 4,
   "metadata": {},
   "outputs": [],
   "source": [
    "# index to word\n",
    "word_index = reuters.get_word_index()\n",
    "reverse_word_index = dict([(value,key) \n",
    "                           for (key,value) \n",
    "                           in word_index.items() ])\n",
    "def decoded_newswire(array_list):\n",
    "    newswire = ' '.join([reverse_word_index.get(i - 3,'?')\n",
    "                        for i in array_list])\n",
    "    return newswire\n"
   ]
  },
  {
   "cell_type": "code",
   "execution_count": 5,
   "metadata": {
    "scrolled": true
   },
   "outputs": [
    {
     "data": {
      "text/plain": [
       "'? the great atlantic and pacific tea co said its three year 345 mln dlr capital program will be be substantially increased to ? growth and expansion plans for ? inc and ? inc over the next two years a and p said the acquisition of ? in august 1986 and ? in december helped us achieve better than expected results in the fourth quarter ended february 28 its net income from continuing operations jumped 52 6 pct to 20 7 mln dlrs or 55 cts a share in the latest quarter as sales increased 48 3 pct to 1 58 billion dlrs a and p gave no details on the expanded capital program but it did say it completed the first year of the program during 1986 a and p is 52 4 pct owned by lt ? ? of west germany reuter 3'"
      ]
     },
     "execution_count": 5,
     "metadata": {},
     "output_type": "execute_result"
    }
   ],
   "source": [
    "decoded_newswire(test_data[0])"
   ]
  },
  {
   "cell_type": "code",
   "execution_count": 6,
   "metadata": {},
   "outputs": [],
   "source": [
    "# encoding the features\n",
    "def vectorize_sequences(sequences,dimensions=10000):\n",
    "    results = np.zeros([len(sequences),dimensions])\n",
    "    for i, sequence in enumerate(sequences):\n",
    "        results[i, sequence] = 1.\n",
    "    return results"
   ]
  },
  {
   "cell_type": "code",
   "execution_count": 7,
   "metadata": {},
   "outputs": [],
   "source": [
    "x_train = vectorize_sequences(train_data)\n",
    "x_test = vectorize_sequences(test_data)"
   ]
  },
  {
   "cell_type": "code",
   "execution_count": 8,
   "metadata": {},
   "outputs": [],
   "source": [
    "# encoding the category (one hot)\n",
    "def to_one_hot(labels,dimensions=46):\n",
    "    results = np.zeros([len(labels),dimensions])\n",
    "    for i, label in enumerate(labels):\n",
    "        results[i, label] = 1.\n",
    "    return results\n",
    "\n",
    "# # alternate way using inbuilt keras tools\n",
    "# one_hot_train_label = to_categorical(train_labels)\n",
    "# one_hot_test_labels = to_categorical(test_labels)"
   ]
  },
  {
   "cell_type": "code",
   "execution_count": 9,
   "metadata": {},
   "outputs": [],
   "source": [
    "one_hot_train_labels = to_one_hot(train_labels)\n",
    "one_hot_test_labels = to_one_hot(test_labels)"
   ]
  },
  {
   "cell_type": "code",
   "execution_count": 10,
   "metadata": {},
   "outputs": [],
   "source": [
    "# Model definition\n",
    "\n",
    "model = models.Sequential()\n",
    "\n",
    "model.add(layers.Dense(64, \n",
    "                       activation='relu', \n",
    "                       input_shape=(10000,)))\n",
    "\n",
    "model.add(layers.Dense(64, \n",
    "                       activation='relu'))\n",
    "\n",
    "model.add(layers.Dense(46,\n",
    "                       activation='softmax'))\n"
   ]
  },
  {
   "cell_type": "code",
   "execution_count": 11,
   "metadata": {},
   "outputs": [],
   "source": [
    "# compiling the model\n",
    "model.compile(optimizer='rmsprop',\n",
    "              loss='categorical_crossentropy',\n",
    "              metrics=['accuracy'])\n"
   ]
  },
  {
   "cell_type": "code",
   "execution_count": 12,
   "metadata": {},
   "outputs": [],
   "source": [
    "# Validation set\n",
    "x_val = x_train[:1000]\n",
    "partial_x_train = x_train[1000:]\n",
    "\n",
    "y_val = one_hot_train_labels[:1000]\n",
    "partial_y_train = one_hot_train_labels[1000:]"
   ]
  },
  {
   "cell_type": "code",
   "execution_count": 13,
   "metadata": {
    "collapsed": true
   },
   "outputs": [
    {
     "name": "stdout",
     "output_type": "stream",
     "text": [
      "Train on 7982 samples, validate on 1000 samples\n",
      "Epoch 1/20\n",
      "7982/7982 [==============================] - 2s 205us/step - loss: 2.5225 - acc: 0.4984 - val_loss: 1.7172 - val_acc: 0.6130\n",
      "Epoch 2/20\n",
      "7982/7982 [==============================] - 1s 130us/step - loss: 1.4440 - acc: 0.6887 - val_loss: 1.3493 - val_acc: 0.7070\n",
      "Epoch 3/20\n",
      "7982/7982 [==============================] - 1s 129us/step - loss: 1.0979 - acc: 0.7643 - val_loss: 1.1728 - val_acc: 0.7410\n",
      "Epoch 4/20\n",
      "7982/7982 [==============================] - 1s 134us/step - loss: 0.8715 - acc: 0.8160 - val_loss: 1.0832 - val_acc: 0.7580\n",
      "Epoch 5/20\n",
      "7982/7982 [==============================] - 1s 143us/step - loss: 0.7048 - acc: 0.8485 - val_loss: 0.9859 - val_acc: 0.7840\n",
      "Epoch 6/20\n",
      "7982/7982 [==============================] - 1s 141us/step - loss: 0.5675 - acc: 0.8805 - val_loss: 0.9415 - val_acc: 0.8050\n",
      "Epoch 7/20\n",
      "7982/7982 [==============================] - 1s 132us/step - loss: 0.4595 - acc: 0.9052 - val_loss: 0.9101 - val_acc: 0.8050\n",
      "Epoch 8/20\n",
      "7982/7982 [==============================] - 1s 142us/step - loss: 0.3706 - acc: 0.9228 - val_loss: 0.9389 - val_acc: 0.7900\n",
      "Epoch 9/20\n",
      "7982/7982 [==============================] - 1s 128us/step - loss: 0.3043 - acc: 0.9313 - val_loss: 0.8917 - val_acc: 0.8060\n",
      "Epoch 10/20\n",
      "7982/7982 [==============================] - 1s 137us/step - loss: 0.2550 - acc: 0.9416 - val_loss: 0.9072 - val_acc: 0.8110\n",
      "Epoch 11/20\n",
      "7982/7982 [==============================] - 1s 151us/step - loss: 0.2199 - acc: 0.9479 - val_loss: 0.9202 - val_acc: 0.8090\n",
      "Epoch 12/20\n",
      "7982/7982 [==============================] - 1s 150us/step - loss: 0.1887 - acc: 0.9504 - val_loss: 0.9076 - val_acc: 0.8170\n",
      "Epoch 13/20\n",
      "7982/7982 [==============================] - 1s 143us/step - loss: 0.1714 - acc: 0.9525 - val_loss: 0.9357 - val_acc: 0.8090\n",
      "Epoch 14/20\n",
      "7982/7982 [==============================] - 1s 135us/step - loss: 0.1545 - acc: 0.9550 - val_loss: 0.9644 - val_acc: 0.8070\n",
      "Epoch 15/20\n",
      "7982/7982 [==============================] - 1s 153us/step - loss: 0.1399 - acc: 0.9554 - val_loss: 0.9732 - val_acc: 0.8160\n",
      "Epoch 16/20\n",
      "7982/7982 [==============================] - 1s 141us/step - loss: 0.1319 - acc: 0.9554 - val_loss: 1.0323 - val_acc: 0.8050\n",
      "Epoch 17/20\n",
      "7982/7982 [==============================] - 1s 159us/step - loss: 0.1224 - acc: 0.9577 - val_loss: 1.0313 - val_acc: 0.7950\n",
      "Epoch 18/20\n",
      "7982/7982 [==============================] - 1s 137us/step - loss: 0.1205 - acc: 0.9579 - val_loss: 1.0440 - val_acc: 0.8050\n",
      "Epoch 19/20\n",
      "7982/7982 [==============================] - 1s 137us/step - loss: 0.1147 - acc: 0.9594 - val_loss: 1.1024 - val_acc: 0.7970\n",
      "Epoch 20/20\n",
      "7982/7982 [==============================] - 1s 137us/step - loss: 0.1121 - acc: 0.9597 - val_loss: 1.0768 - val_acc: 0.8000\n"
     ]
    }
   ],
   "source": [
    "# Training the model\n",
    "\n",
    "history = model.fit(partial_x_train,\n",
    "                   partial_y_train,\n",
    "                   epochs=20,\n",
    "                   batch_size=512,\n",
    "                   validation_data=(x_val, y_val))"
   ]
  },
  {
   "cell_type": "code",
   "execution_count": 14,
   "metadata": {},
   "outputs": [
    {
     "data": {
      "image/png": "[encoded data removed]",
      "text/plain": [
       "<Figure size 720x720 with 1 Axes>"
      ]
     },
     "metadata": {
      "needs_background": "light"
     },
     "output_type": "display_data"
    }
   ],
   "source": [
    "# plot training and validation loss\n",
    "loss = history.history['loss']\n",
    "val_loss = history.history['val_loss']\n",
    "epochs = range(1,len(loss)+1)\n",
    "\n",
    "plt.figure(figsize=(10,10))\n",
    "plt.plot(epochs,loss,'r--',label='Training Loss')\n",
    "plt.plot(epochs,val_loss,'b-',label='Validation Loss')\n",
    "plt.title('Training and Validation Loss')\n",
    "plt.xlabel('Epochs')\n",
    "plt.ylabel('Loss')\n",
    "plt.legend();"
   ]
  },
  {
   "cell_type": "code",
   "execution_count": 15,
   "metadata": {},
   "outputs": [
    {
     "data": {
      "image/png": "[encoded data removed]",
      "text/plain": [
       "<Figure size 720x720 with 1 Axes>"
      ]
     },
     "metadata": {
      "needs_background": "light"
     },
     "output_type": "display_data"
    }
   ],
   "source": [
    "# plot training and validation accuracy\n",
    "acc = history.history['acc']\n",
    "val_acc = history.history['val_acc']\n",
    "epochs = range(1,len(acc)+1)\n",
    "\n",
    "plt.figure(figsize=(10,10))\n",
    "plt.plot(epochs,acc,'r--',label='Training Accuracy')\n",
    "plt.plot(epochs,val_acc,'b-',label='Validation Accuracy')\n",
    "plt.title('Training and Validation Accuracy')\n",
    "plt.xlabel('Epochs')\n",
    "plt.ylabel('Accuracy')\n",
    "plt.legend();"
   ]
  },
  {
   "cell_type": "code",
   "execution_count": 16,
   "metadata": {
    "collapsed": true
   },
   "outputs": [
    {
     "name": "stdout",
     "output_type": "stream",
     "text": [
      "Train on 7982 samples, validate on 1000 samples\n",
      "Epoch 1/9\n",
      "7982/7982 [==============================] - 2s 214us/step - loss: 2.5278 - acc: 0.5241 - val_loss: 1.6786 - val_acc: 0.6550\n",
      "Epoch 2/9\n",
      "7982/7982 [==============================] - 1s 150us/step - loss: 1.3699 - acc: 0.7136 - val_loss: 1.2750 - val_acc: 0.7240\n",
      "Epoch 3/9\n",
      "7982/7982 [==============================] - 1s 136us/step - loss: 1.0105 - acc: 0.7798 - val_loss: 1.1353 - val_acc: 0.7470\n",
      "Epoch 4/9\n",
      "7982/7982 [==============================] - 1s 139us/step - loss: 0.7957 - acc: 0.8257 - val_loss: 1.0532 - val_acc: 0.7610\n",
      "Epoch 5/9\n",
      "7982/7982 [==============================] - 1s 136us/step - loss: 0.6366 - acc: 0.8642 - val_loss: 0.9782 - val_acc: 0.7980\n",
      "Epoch 6/9\n",
      "7982/7982 [==============================] - 1s 135us/step - loss: 0.5081 - acc: 0.8929 - val_loss: 0.9084 - val_acc: 0.8130\n",
      "Epoch 7/9\n",
      "7982/7982 [==============================] - 1s 134us/step - loss: 0.4093 - acc: 0.9154 - val_loss: 0.8915 - val_acc: 0.8210\n",
      "Epoch 8/9\n",
      "7982/7982 [==============================] - 1s 141us/step - loss: 0.3338 - acc: 0.9288 - val_loss: 0.8709 - val_acc: 0.8260\n",
      "Epoch 9/9\n",
      "7982/7982 [==============================] - 1s 139us/step - loss: 0.2782 - acc: 0.9364 - val_loss: 0.9352 - val_acc: 0.8030\n",
      "2246/2246 [==============================] - 0s 166us/step\n",
      "\n",
      "test loss:  1.0212683586382165  test accuracy:  0.778717720444884\n"
     ]
    }
   ],
   "source": [
    "# Retraining the model from scratch\n",
    "model1 = models.Sequential()\n",
    "model1.add(layers.Dense(64,\n",
    "                        activation='relu',\n",
    "                        input_shape=(10000,)))\n",
    "model1.add(layers.Dense(64,\n",
    "                        activation='relu'))\n",
    "model1.add(layers.Dense(46,\n",
    "                        activation='softmax'))\n",
    "\n",
    "model1.compile(optimizer='rmsprop',\n",
    "               loss='categorical_crossentropy',\n",
    "               metrics=['accuracy'])\n",
    "model1.fit(partial_x_train,\n",
    "           partial_y_train,\n",
    "           epochs=9,\n",
    "           batch_size=512,\n",
    "           validation_data=(x_val, y_val))\n",
    "\n",
    "results = model1.evaluate(x_test, one_hot_test_labels)\n",
    "print('\\ntest loss: ',results[0],' test accuracy: ',results[1])"
   ]
  },
  {
   "cell_type": "code",
   "execution_count": 17,
   "metadata": {},
   "outputs": [],
   "source": [
    "y_train = np.array(train_labels)\n",
    "y_test = np.array(test_labels)"
   ]
  },
  {
   "cell_type": "code",
   "execution_count": 18,
   "metadata": {},
   "outputs": [
    {
     "data": {
      "text/plain": [
       "array([ 3,  4,  3, ..., 25,  3, 25])"
      ]
     },
     "execution_count": 18,
     "metadata": {},
     "output_type": "execute_result"
    }
   ],
   "source": [
    "y_train"
   ]
  },
  {
   "cell_type": "code",
   "execution_count": 19,
   "metadata": {
    "collapsed": true
   },
   "outputs": [
    {
     "name": "stdout",
     "output_type": "stream",
     "text": [
      "Train on 7982 samples, validate on 1000 samples\n",
      "Epoch 1/20\n",
      "7982/7982 [==============================] - 2s 194us/step - loss: 2.6070 - acc: 0.4648 - val_loss: 1.7200 - val_acc: 0.6350\n",
      "Epoch 2/20\n",
      "7982/7982 [==============================] - 1s 133us/step - loss: 1.3996 - acc: 0.7105 - val_loss: 1.2722 - val_acc: 0.7280\n",
      "Epoch 3/20\n",
      "7982/7982 [==============================] - 1s 134us/step - loss: 1.0386 - acc: 0.7804 - val_loss: 1.1025 - val_acc: 0.7620\n",
      "Epoch 4/20\n",
      "7982/7982 [==============================] - 1s 153us/step - loss: 0.8144 - acc: 0.8310 - val_loss: 1.0283 - val_acc: 0.7870\n",
      "Epoch 5/20\n",
      "7982/7982 [==============================] - 1s 133us/step - loss: 0.6477 - acc: 0.8641 - val_loss: 0.9536 - val_acc: 0.8040\n",
      "Epoch 6/20\n",
      "7982/7982 [==============================] - 1s 138us/step - loss: 0.5278 - acc: 0.8904 - val_loss: 0.9219 - val_acc: 0.8060\n",
      "Epoch 7/20\n",
      "7982/7982 [==============================] - 1s 133us/step - loss: 0.4197 - acc: 0.9109 - val_loss: 0.9027 - val_acc: 0.8120\n",
      "Epoch 8/20\n",
      "7982/7982 [==============================] - 1s 133us/step - loss: 0.3481 - acc: 0.9261 - val_loss: 0.8939 - val_acc: 0.8170\n",
      "Epoch 9/20\n",
      "7982/7982 [==============================] - 1s 137us/step - loss: 0.2862 - acc: 0.9346 - val_loss: 0.8857 - val_acc: 0.8200\n",
      "Epoch 10/20\n",
      "7982/7982 [==============================] - 1s 135us/step - loss: 0.2439 - acc: 0.9424 - val_loss: 0.8856 - val_acc: 0.8140\n",
      "Epoch 11/20\n",
      "7982/7982 [==============================] - 1s 133us/step - loss: 0.2092 - acc: 0.9496 - val_loss: 0.9072 - val_acc: 0.8150\n",
      "Epoch 12/20\n",
      "7982/7982 [==============================] - 1s 149us/step - loss: 0.1827 - acc: 0.9518 - val_loss: 0.9368 - val_acc: 0.8050\n",
      "Epoch 13/20\n",
      "7982/7982 [==============================] - 1s 150us/step - loss: 0.1706 - acc: 0.9528 - val_loss: 0.9458 - val_acc: 0.8160\n",
      "Epoch 14/20\n",
      "7982/7982 [==============================] - 1s 136us/step - loss: 0.1553 - acc: 0.9546 - val_loss: 0.9855 - val_acc: 0.8100\n",
      "Epoch 15/20\n",
      "7982/7982 [==============================] - 1s 142us/step - loss: 0.1416 - acc: 0.9577 - val_loss: 0.9716 - val_acc: 0.8060\n",
      "Epoch 16/20\n",
      "7982/7982 [==============================] - 1s 155us/step - loss: 0.1313 - acc: 0.9560 - val_loss: 1.0117 - val_acc: 0.7950\n",
      "Epoch 17/20\n",
      "7982/7982 [==============================] - 1s 160us/step - loss: 0.1295 - acc: 0.9563 - val_loss: 1.0141 - val_acc: 0.8040\n",
      "Epoch 18/20\n",
      "7982/7982 [==============================] - 1s 154us/step - loss: 0.1201 - acc: 0.9575 - val_loss: 1.1047 - val_acc: 0.7900\n",
      "Epoch 19/20\n",
      "7982/7982 [==============================] - 1s 140us/step - loss: 0.1177 - acc: 0.9572 - val_loss: 1.0345 - val_acc: 0.8070\n",
      "Epoch 20/20\n",
      "7982/7982 [==============================] - 1s 146us/step - loss: 0.1154 - acc: 0.9569 - val_loss: 1.0640 - val_acc: 0.8030\n"
     ]
    }
   ],
   "source": [
    "# alternate way to encode labels\n",
    "y_train = np.array(train_labels)\n",
    "y_test = np.array(test_labels)\n",
    "\n",
    "# Model definition\n",
    "\n",
    "model2 = models.Sequential()\n",
    "\n",
    "model2.add(layers.Dense(64, \n",
    "                       activation='relu', \n",
    "                       input_shape=(10000,)))\n",
    "\n",
    "model2.add(layers.Dense(64, \n",
    "                       activation='relu'))\n",
    "\n",
    "model2.add(layers.Dense(46,\n",
    "                       activation='softmax'))\n",
    "\n",
    "# compiling the model\n",
    "# loss function sparse_categorical_crossentropy\n",
    "model2.compile(optimizer='rmsprop',\n",
    "              loss='sparse_categorical_crossentropy',\n",
    "              metrics=['accuracy'])\n",
    "\n",
    "\n",
    "y_val = y_train[:1000]\n",
    "partial_y_train = y_train[1000:]\n",
    "\n",
    "# Training the model\n",
    "history = model2.fit(partial_x_train,\n",
    "                   partial_y_train,\n",
    "                   epochs=20,\n",
    "                   batch_size=512,\n",
    "                   validation_data=(x_val, y_val))\n"
   ]
  },
  {
   "cell_type": "code",
   "execution_count": 20,
   "metadata": {
    "collapsed": true
   },
   "outputs": [
    {
     "data": {
      "image/png": "[encoded data removed]",
      "text/plain": [
       "<Figure size 720x720 with 1 Axes>"
      ]
     },
     "metadata": {
      "needs_background": "light"
     },
     "output_type": "display_data"
    }
   ],
   "source": [
    "# plot training and validation loss\n",
    "loss = history.history['loss']\n",
    "val_loss = history.history['val_loss']\n",
    "epochs = range(1,len(loss)+1)\n",
    "\n",
    "plt.figure(figsize=(10,10))\n",
    "plt.plot(epochs,loss,'r--',label='Training Loss')\n",
    "plt.plot(epochs,val_loss,'b-',label='Validation Loss')\n",
    "plt.title('Training and Validation Loss')\n",
    "plt.xlabel('Epochs')\n",
    "plt.ylabel('Loss')\n",
    "plt.legend();"
   ]
  },
  {
   "cell_type": "code",
   "execution_count": 21,
   "metadata": {},
   "outputs": [
    {
     "data": {
      "image/png": "[encoded data removed]",
      "text/plain": [
       "<Figure size 720x720 with 1 Axes>"
      ]
     },
     "metadata": {
      "needs_background": "light"
     },
     "output_type": "display_data"
    }
   ],
   "source": [
    "# plot training and validation accuracy\n",
    "acc = history.history['acc']\n",
    "val_acc = history.history['val_acc']\n",
    "epochs = range(1,len(acc)+1)\n",
    "\n",
    "plt.figure(figsize=(10,10))\n",
    "plt.plot(epochs,acc,'r--',label='Training Accuracy')\n",
    "plt.plot(epochs,val_acc,'b-',label='Validation Accuracy')\n",
    "plt.title('Training and Validation Accuracy')\n",
    "plt.xlabel('Epochs')\n",
    "plt.ylabel('Accuracy')\n",
    "plt.legend();"
   ]
  },
  {
   "cell_type": "code",
   "execution_count": 24,
   "metadata": {
    "collapsed": true
   },
   "outputs": [
    {
     "name": "stdout",
     "output_type": "stream",
     "text": [
      "Train on 7982 samples, validate on 1000 samples\n",
      "Epoch 1/9\n",
      "7982/7982 [==============================] - 2s 245us/step - loss: 2.6496 - acc: 0.5431 - val_loss: 1.7413 - val_acc: 0.6330\n",
      "Epoch 2/9\n",
      "7982/7982 [==============================] - 1s 171us/step - loss: 1.4260 - acc: 0.7068 - val_loss: 1.3115 - val_acc: 0.7130\n",
      "Epoch 3/9\n",
      "7982/7982 [==============================] - 1s 162us/step - loss: 1.0547 - acc: 0.7786 - val_loss: 1.1289 - val_acc: 0.7500\n",
      "Epoch 4/9\n",
      "7982/7982 [==============================] - 1s 139us/step - loss: 0.8386 - acc: 0.8188 - val_loss: 1.0553 - val_acc: 0.7770\n",
      "Epoch 5/9\n",
      "7982/7982 [==============================] - 1s 125us/step - loss: 0.6726 - acc: 0.8558 - val_loss: 0.9873 - val_acc: 0.7830\n",
      "Epoch 6/9\n",
      "7982/7982 [==============================] - 1s 157us/step - loss: 0.5386 - acc: 0.8891 - val_loss: 0.9244 - val_acc: 0.8080\n",
      "Epoch 7/9\n",
      "7982/7982 [==============================] - 1s 166us/step - loss: 0.4325 - acc: 0.9090 - val_loss: 0.9277 - val_acc: 0.7980\n",
      "Epoch 8/9\n",
      "7982/7982 [==============================] - 1s 145us/step - loss: 0.3570 - acc: 0.9241 - val_loss: 0.8869 - val_acc: 0.8110\n",
      "Epoch 9/9\n",
      "7982/7982 [==============================] - 1s 154us/step - loss: 0.2941 - acc: 0.9334 - val_loss: 0.8940 - val_acc: 0.8080\n",
      "2246/2246 [==============================] - 0s 157us/step\n",
      "\n",
      "test loss:  0.9979781796649855  test accuracy:  0.7827248441674087\n"
     ]
    }
   ],
   "source": [
    "# Retraining the model from scratch\n",
    "model2 = models.Sequential()\n",
    "model2.add(layers.Dense(64,\n",
    "                        activation='relu',\n",
    "                        input_shape=(10000,)))\n",
    "model2.add(layers.Dense(64,\n",
    "                        activation='relu'))\n",
    "model2.add(layers.Dense(46,\n",
    "                        activation='softmax'))\n",
    "\n",
    "model2.compile(optimizer='rmsprop',\n",
    "               loss='sparse_categorical_crossentropy',\n",
    "               metrics=['accuracy'])\n",
    "model2.fit(partial_x_train,\n",
    "           partial_y_train,\n",
    "           epochs=9,\n",
    "           batch_size=512,\n",
    "           validation_data=(x_val, y_val))\n",
    "\n",
    "results = model2.evaluate(x_test, y_test)\n",
    "print('\\ntest loss: ',results[0],' test accuracy: ',results[1])"
   ]
  },
  {
   "cell_type": "code",
   "execution_count": 25,
   "metadata": {
    "collapsed": true
   },
   "outputs": [
    {
     "name": "stdout",
     "output_type": "stream",
     "text": [
      "Train on 7982 samples, validate on 1000 samples\n",
      "Epoch 1/50\n",
      "7982/7982 [==============================] - 2s 206us/step - loss: 3.3569 - acc: 0.4243 - val_loss: 2.9186 - val_acc: 0.5730\n",
      "Epoch 2/50\n",
      "7982/7982 [==============================] - 1s 127us/step - loss: 2.6419 - acc: 0.5737 - val_loss: 2.3750 - val_acc: 0.5830\n",
      "Epoch 3/50\n",
      "7982/7982 [==============================] - 1s 150us/step - loss: 2.1531 - acc: 0.5898 - val_loss: 2.0021 - val_acc: 0.5860\n",
      "Epoch 4/50\n",
      "7982/7982 [==============================] - 1s 140us/step - loss: 1.8228 - acc: 0.6041 - val_loss: 1.7652 - val_acc: 0.5950\n",
      "Epoch 5/50\n",
      "7982/7982 [==============================] - 1s 140us/step - loss: 1.6021 - acc: 0.6201 - val_loss: 1.6208 - val_acc: 0.6120\n",
      "Epoch 6/50\n",
      "7982/7982 [==============================] - 1s 139us/step - loss: 1.4470 - acc: 0.6426 - val_loss: 1.5199 - val_acc: 0.6290\n",
      "Epoch 7/50\n",
      "7982/7982 [==============================] - 1s 132us/step - loss: 1.3290 - acc: 0.6589 - val_loss: 1.4498 - val_acc: 0.6300\n",
      "Epoch 8/50\n",
      "7982/7982 [==============================] - 1s 132us/step - loss: 1.2330 - acc: 0.6689 - val_loss: 1.4056 - val_acc: 0.6380\n",
      "Epoch 9/50\n",
      "7982/7982 [==============================] - 1s 133us/step - loss: 1.1501 - acc: 0.6931 - val_loss: 1.3729 - val_acc: 0.6570\n",
      "Epoch 10/50\n",
      "7982/7982 [==============================] - 1s 133us/step - loss: 1.0779 - acc: 0.7233 - val_loss: 1.3347 - val_acc: 0.6730\n",
      "Epoch 11/50\n",
      "7982/7982 [==============================] - 1s 138us/step - loss: 1.0140 - acc: 0.7319 - val_loss: 1.3263 - val_acc: 0.6810\n",
      "Epoch 12/50\n",
      "7982/7982 [==============================] - 1s 145us/step - loss: 0.9575 - acc: 0.7483 - val_loss: 1.3135 - val_acc: 0.6920\n",
      "Epoch 13/50\n",
      "7982/7982 [==============================] - 1s 148us/step - loss: 0.9053 - acc: 0.7716 - val_loss: 1.3048 - val_acc: 0.6960\n",
      "Epoch 14/50\n",
      "7982/7982 [==============================] - 1s 146us/step - loss: 0.8586 - acc: 0.7786 - val_loss: 1.3027 - val_acc: 0.7030\n",
      "Epoch 15/50\n",
      "7982/7982 [==============================] - 1s 146us/step - loss: 0.8193 - acc: 0.7795 - val_loss: 1.3030 - val_acc: 0.7000\n",
      "Epoch 16/50\n",
      "7982/7982 [==============================] - 1s 136us/step - loss: 0.7826 - acc: 0.7831 - val_loss: 1.3140 - val_acc: 0.6910\n",
      "Epoch 17/50\n",
      "7982/7982 [==============================] - 1s 132us/step - loss: 0.7503 - acc: 0.7865 - val_loss: 1.3340 - val_acc: 0.6960\n",
      "Epoch 18/50\n",
      "7982/7982 [==============================] - 1s 156us/step - loss: 0.7211 - acc: 0.7884 - val_loss: 1.3480 - val_acc: 0.6970\n",
      "Epoch 19/50\n",
      "7982/7982 [==============================] - 1s 186us/step - loss: 0.6946 - acc: 0.7957 - val_loss: 1.3286 - val_acc: 0.7060\n",
      "Epoch 20/50\n",
      "7982/7982 [==============================] - 1s 143us/step - loss: 0.6678 - acc: 0.8047 - val_loss: 1.3698 - val_acc: 0.7020\n",
      "Epoch 21/50\n",
      "7982/7982 [==============================] - 1s 134us/step - loss: 0.6461 - acc: 0.8146 - val_loss: 1.3687 - val_acc: 0.7030\n",
      "Epoch 22/50\n",
      "7982/7982 [==============================] - 1s 148us/step - loss: 0.6229 - acc: 0.8211 - val_loss: 1.3854 - val_acc: 0.7070\n",
      "Epoch 23/50\n",
      "7982/7982 [==============================] - 1s 153us/step - loss: 0.6014 - acc: 0.8292 - val_loss: 1.3883 - val_acc: 0.7070\n",
      "Epoch 24/50\n",
      "7982/7982 [==============================] - 1s 153us/step - loss: 0.5815 - acc: 0.8370 - val_loss: 1.4179 - val_acc: 0.7080\n",
      "Epoch 25/50\n",
      "7982/7982 [==============================] - 1s 156us/step - loss: 0.5616 - acc: 0.8435 - val_loss: 1.4160 - val_acc: 0.7080\n",
      "Epoch 26/50\n",
      "7982/7982 [==============================] - 1s 148us/step - loss: 0.5469 - acc: 0.8453 - val_loss: 1.4432 - val_acc: 0.7120\n",
      "Epoch 27/50\n",
      "7982/7982 [==============================] - 1s 139us/step - loss: 0.5271 - acc: 0.8520 - val_loss: 1.4470 - val_acc: 0.7110\n",
      "Epoch 28/50\n",
      "7982/7982 [==============================] - 1s 141us/step - loss: 0.5133 - acc: 0.8568 - val_loss: 1.4683 - val_acc: 0.7080\n",
      "Epoch 29/50\n",
      "7982/7982 [==============================] - 1s 150us/step - loss: 0.4971 - acc: 0.8609 - val_loss: 1.4786 - val_acc: 0.7090\n",
      "Epoch 30/50\n",
      "7982/7982 [==============================] - 1s 153us/step - loss: 0.4844 - acc: 0.8663 - val_loss: 1.4981 - val_acc: 0.7100\n",
      "Epoch 31/50\n",
      "7982/7982 [==============================] - 1s 157us/step - loss: 0.4693 - acc: 0.8664 - val_loss: 1.5181 - val_acc: 0.7060\n",
      "Epoch 32/50\n",
      "7982/7982 [==============================] - 1s 161us/step - loss: 0.4574 - acc: 0.8730 - val_loss: 1.5192 - val_acc: 0.7030\n",
      "Epoch 33/50\n",
      "7982/7982 [==============================] - 1s 157us/step - loss: 0.4456 - acc: 0.8790 - val_loss: 1.5528 - val_acc: 0.7060\n",
      "Epoch 34/50\n",
      "7982/7982 [==============================] - 1s 140us/step - loss: 0.4345 - acc: 0.8829 - val_loss: 1.5535 - val_acc: 0.7110\n",
      "Epoch 35/50\n",
      "7982/7982 [==============================] - 1s 140us/step - loss: 0.4223 - acc: 0.8849 - val_loss: 1.5629 - val_acc: 0.7140\n",
      "Epoch 36/50\n",
      "7982/7982 [==============================] - 1s 151us/step - loss: 0.4128 - acc: 0.8893 - val_loss: 1.6066 - val_acc: 0.7060\n",
      "Epoch 37/50\n",
      "7982/7982 [==============================] - 1s 141us/step - loss: 0.4017 - acc: 0.8908 - val_loss: 1.6213 - val_acc: 0.7100\n",
      "Epoch 38/50\n",
      "7982/7982 [==============================] - 1s 148us/step - loss: 0.3909 - acc: 0.8938 - val_loss: 1.6354 - val_acc: 0.7150\n",
      "Epoch 39/50\n",
      "7982/7982 [==============================] - 1s 145us/step - loss: 0.3800 - acc: 0.8945 - val_loss: 1.6584 - val_acc: 0.7080\n",
      "Epoch 40/50\n",
      "7982/7982 [==============================] - 1s 147us/step - loss: 0.3748 - acc: 0.8971 - val_loss: 1.6472 - val_acc: 0.7100\n",
      "Epoch 41/50\n",
      "7982/7982 [==============================] - 1s 139us/step - loss: 0.3623 - acc: 0.8998 - val_loss: 1.6847 - val_acc: 0.7080\n",
      "Epoch 42/50\n",
      "7982/7982 [==============================] - 1s 144us/step - loss: 0.3549 - acc: 0.9027 - val_loss: 1.7206 - val_acc: 0.7080\n",
      "Epoch 43/50\n",
      "7982/7982 [==============================] - 1s 146us/step - loss: 0.3476 - acc: 0.9035 - val_loss: 1.7280 - val_acc: 0.7080\n",
      "Epoch 44/50\n",
      "7982/7982 [==============================] - 1s 138us/step - loss: 0.3390 - acc: 0.9074 - val_loss: 1.8167 - val_acc: 0.7060\n",
      "Epoch 45/50\n",
      "7982/7982 [==============================] - 1s 140us/step - loss: 0.3323 - acc: 0.9100 - val_loss: 1.7621 - val_acc: 0.7090\n",
      "Epoch 46/50\n",
      "7982/7982 [==============================] - 1s 137us/step - loss: 0.3253 - acc: 0.9117 - val_loss: 1.7866 - val_acc: 0.7060\n",
      "Epoch 47/50\n",
      "7982/7982 [==============================] - 1s 140us/step - loss: 0.3205 - acc: 0.9131 - val_loss: 1.7894 - val_acc: 0.7050\n",
      "Epoch 48/50\n",
      "7982/7982 [==============================] - 1s 142us/step - loss: 0.3122 - acc: 0.9161 - val_loss: 1.8462 - val_acc: 0.7080\n",
      "Epoch 49/50\n",
      "7982/7982 [==============================] - 1s 148us/step - loss: 0.3071 - acc: 0.9178 - val_loss: 1.8712 - val_acc: 0.7020\n",
      "Epoch 50/50\n",
      "7982/7982 [==============================] - 1s 154us/step - loss: 0.3007 - acc: 0.9198 - val_loss: 1.8979 - val_acc: 0.7110\n"
     ]
    },
    {
     "data": {
      "text/plain": [
       "<keras.callbacks.History at 0x7fcb936328d0>"
      ]
     },
     "execution_count": 25,
     "metadata": {},
     "output_type": "execute_result"
    }
   ],
   "source": [
    "# alternate models with less hidden nodes\n",
    "# information bottleneck\n",
    "\n",
    "model3 = models.Sequential()\n",
    "model3.add(layers.Dense(64,\n",
    "                        activation='relu',\n",
    "                        input_shape=(10000,)))\n",
    "model3.add(layers.Dense(4,\n",
    "                        activation='relu'))\n",
    "model3.add(layers.Dense(46,\n",
    "                        activation='softmax'))\n",
    "\n",
    "model3.compile(optimizer='rmsprop',\n",
    "               loss='sparse_categorical_crossentropy',\n",
    "               metrics=['accuracy'])\n",
    "model3.fit(partial_x_train,\n",
    "           partial_y_train,\n",
    "           epochs=50,\n",
    "           batch_size=512,\n",
    "           validation_data=(x_val, y_val))\n",
    "# validation accuracy stuck around 70%"
   ]
  },
  {
   "cell_type": "code",
   "execution_count": null,
   "metadata": {},
   "outputs": [],
   "source": [
    "# alternate models with less hidden nodes\n",
    "# information bottleneck\n",
    "\n",
    "model3 = models.Sequential()\n",
    "model3.add(layers.Dense(64,\n",
    "                        activation='relu',\n",
    "                        input_shape=(10000,)))\n",
    "model3.add(layers.Dense(4,\n",
    "                        activation='relu'))\n",
    "model3.add(layers.Dense(46,\n",
    "                        activation='softmax'))\n",
    "\n",
    "model3.compile(optimizer='rmsprop',\n",
    "               loss='sparse_categorical_crossentropy',\n",
    "               metrics=['accuracy'])\n",
    "model3.fit(partial_x_train,\n",
    "           partial_y_train,\n",
    "           epochs=20,\n",
    "           batch_size=512,\n",
    "           validation_data=(x_val, y_val))"
   ]
  },
  {
   "cell_type": "code",
   "execution_count": 26,
   "metadata": {
    "collapsed": true
   },
   "outputs": [
    {
     "name": "stdout",
     "output_type": "stream",
     "text": [
      "Train on 7982 samples, validate on 1000 samples\n",
      "Epoch 1/20\n",
      "7982/7982 [==============================] - 2s 201us/step - loss: 2.7238 - acc: 0.5276 - val_loss: 1.9829 - val_acc: 0.6640\n",
      "Epoch 2/20\n",
      "7982/7982 [==============================] - 1s 147us/step - loss: 1.5816 - acc: 0.7194 - val_loss: 1.4400 - val_acc: 0.7180\n",
      "Epoch 3/20\n",
      "7982/7982 [==============================] - 1s 132us/step - loss: 1.1283 - acc: 0.7843 - val_loss: 1.1851 - val_acc: 0.7560\n",
      "Epoch 4/20\n",
      "7982/7982 [==============================] - 1s 129us/step - loss: 0.8651 - acc: 0.8259 - val_loss: 1.0386 - val_acc: 0.7900\n",
      "Epoch 5/20\n",
      "7982/7982 [==============================] - 1s 140us/step - loss: 0.6861 - acc: 0.8647 - val_loss: 0.9480 - val_acc: 0.8040\n",
      "Epoch 6/20\n",
      "7982/7982 [==============================] - 1s 148us/step - loss: 0.5570 - acc: 0.8903 - val_loss: 0.8967 - val_acc: 0.8160\n",
      "Epoch 7/20\n",
      "7982/7982 [==============================] - 1s 133us/step - loss: 0.4596 - acc: 0.9065 - val_loss: 0.8606 - val_acc: 0.8180\n",
      "Epoch 8/20\n",
      "7982/7982 [==============================] - 1s 147us/step - loss: 0.3839 - acc: 0.9237 - val_loss: 0.8418 - val_acc: 0.8190\n",
      "Epoch 9/20\n",
      "7982/7982 [==============================] - 1s 148us/step - loss: 0.3264 - acc: 0.9349 - val_loss: 0.8317 - val_acc: 0.8180\n",
      "Epoch 10/20\n",
      "7982/7982 [==============================] - 1s 155us/step - loss: 0.2762 - acc: 0.9414 - val_loss: 0.8250 - val_acc: 0.8250\n",
      "Epoch 11/20\n",
      "7982/7982 [==============================] - 1s 149us/step - loss: 0.2416 - acc: 0.9446 - val_loss: 0.8356 - val_acc: 0.8260\n",
      "Epoch 12/20\n",
      "7982/7982 [==============================] - 1s 150us/step - loss: 0.2102 - acc: 0.9494 - val_loss: 0.8356 - val_acc: 0.8240\n",
      "Epoch 13/20\n",
      "7982/7982 [==============================] - 1s 146us/step - loss: 0.1863 - acc: 0.9520 - val_loss: 0.8498 - val_acc: 0.8250\n",
      "Epoch 14/20\n",
      "7982/7982 [==============================] - 1s 146us/step - loss: 0.1690 - acc: 0.9526 - val_loss: 0.8554 - val_acc: 0.8220\n",
      "Epoch 15/20\n",
      "7982/7982 [==============================] - 1s 149us/step - loss: 0.1519 - acc: 0.9549 - val_loss: 0.8623 - val_acc: 0.8270\n",
      "Epoch 16/20\n",
      "7982/7982 [==============================] - 1s 147us/step - loss: 0.1443 - acc: 0.9539 - val_loss: 0.8744 - val_acc: 0.8220\n",
      "Epoch 17/20\n",
      "7982/7982 [==============================] - 1s 137us/step - loss: 0.1318 - acc: 0.9564 - val_loss: 0.8853 - val_acc: 0.8240\n",
      "Epoch 18/20\n",
      "7982/7982 [==============================] - 1s 157us/step - loss: 0.1245 - acc: 0.9575 - val_loss: 0.8917 - val_acc: 0.8190\n",
      "Epoch 19/20\n",
      "7982/7982 [==============================] - 1s 160us/step - loss: 0.1161 - acc: 0.9579 - val_loss: 0.9049 - val_acc: 0.8160\n",
      "Epoch 20/20\n",
      "7982/7982 [==============================] - 1s 134us/step - loss: 0.1115 - acc: 0.9593 - val_loss: 0.9179 - val_acc: 0.8200\n"
     ]
    },
    {
     "data": {
      "text/plain": [
       "<keras.callbacks.History at 0x7fcb9337a208>"
      ]
     },
     "execution_count": 26,
     "metadata": {},
     "output_type": "execute_result"
    }
   ],
   "source": [
    "# alternate models with one hidden layer\n",
    "# less represenations\n",
    "\n",
    "model4 = models.Sequential()\n",
    "model4.add(layers.Dense(64,\n",
    "                        activation='relu',\n",
    "                        input_shape=(10000,)))\n",
    "model4.add(layers.Dense(46,\n",
    "                        activation='softmax'))\n",
    "\n",
    "model4.compile(optimizer='rmsprop',\n",
    "               loss='sparse_categorical_crossentropy',\n",
    "               metrics=['accuracy'])\n",
    "model4.fit(partial_x_train,\n",
    "           partial_y_train,\n",
    "           epochs=20,\n",
    "           batch_size=512,\n",
    "           validation_data=(x_val, y_val))"
   ]
  },
  {
   "cell_type": "code",
   "execution_count": 29,
   "metadata": {
    "collapsed": true
   },
   "outputs": [
    {
     "name": "stdout",
     "output_type": "stream",
     "text": [
      "Train on 7982 samples, validate on 1000 samples\n",
      "Epoch 1/50\n",
      "7982/7982 [==============================] - 2s 243us/step - loss: 2.5968 - acc: 0.4530 - val_loss: 1.6720 - val_acc: 0.6090\n",
      "Epoch 2/50\n",
      "7982/7982 [==============================] - 1s 150us/step - loss: 1.4583 - acc: 0.6668 - val_loss: 1.3625 - val_acc: 0.7000\n",
      "Epoch 3/50\n",
      "7982/7982 [==============================] - 1s 149us/step - loss: 1.1389 - acc: 0.7333 - val_loss: 1.1882 - val_acc: 0.7360\n",
      "Epoch 4/50\n",
      "7982/7982 [==============================] - 1s 149us/step - loss: 0.9300 - acc: 0.7883 - val_loss: 1.1067 - val_acc: 0.7510\n",
      "Epoch 5/50\n",
      "7982/7982 [==============================] - 1s 137us/step - loss: 0.7321 - acc: 0.8299 - val_loss: 1.1139 - val_acc: 0.7610\n",
      "Epoch 6/50\n",
      "7982/7982 [==============================] - 1s 155us/step - loss: 0.6253 - acc: 0.8497 - val_loss: 1.0449 - val_acc: 0.7780\n",
      "Epoch 7/50\n",
      "7982/7982 [==============================] - 1s 149us/step - loss: 0.4988 - acc: 0.8881 - val_loss: 1.1465 - val_acc: 0.7570\n",
      "Epoch 8/50\n",
      "7982/7982 [==============================] - 1s 142us/step - loss: 0.3971 - acc: 0.9093 - val_loss: 1.0349 - val_acc: 0.7910\n",
      "Epoch 9/50\n",
      "7982/7982 [==============================] - 1s 160us/step - loss: 0.3612 - acc: 0.9178 - val_loss: 1.0262 - val_acc: 0.7950\n",
      "Epoch 10/50\n",
      "7982/7982 [==============================] - 1s 149us/step - loss: 0.2850 - acc: 0.9341 - val_loss: 1.5105 - val_acc: 0.7100\n",
      "Epoch 11/50\n",
      "7982/7982 [==============================] - 1s 145us/step - loss: 0.2698 - acc: 0.9357 - val_loss: 1.1142 - val_acc: 0.7820\n",
      "Epoch 12/50\n",
      "7982/7982 [==============================] - 1s 139us/step - loss: 0.2395 - acc: 0.9412 - val_loss: 1.1339 - val_acc: 0.7690\n",
      "Epoch 13/50\n",
      "7982/7982 [==============================] - 1s 146us/step - loss: 0.1967 - acc: 0.9496 - val_loss: 1.2110 - val_acc: 0.7810\n",
      "Epoch 14/50\n",
      "7982/7982 [==============================] - 1s 135us/step - loss: 0.1869 - acc: 0.9503 - val_loss: 1.2680 - val_acc: 0.7750\n",
      "Epoch 15/50\n",
      "7982/7982 [==============================] - 1s 139us/step - loss: 0.1927 - acc: 0.9483 - val_loss: 1.3278 - val_acc: 0.7670\n",
      "Epoch 16/50\n",
      "7982/7982 [==============================] - 1s 135us/step - loss: 0.1566 - acc: 0.9569 - val_loss: 1.2512 - val_acc: 0.7790\n",
      "Epoch 17/50\n",
      "7982/7982 [==============================] - 1s 134us/step - loss: 0.1591 - acc: 0.9577 - val_loss: 1.5036 - val_acc: 0.7580\n",
      "Epoch 18/50\n",
      "7982/7982 [==============================] - 1s 139us/step - loss: 0.1454 - acc: 0.9579 - val_loss: 1.5529 - val_acc: 0.7400\n",
      "Epoch 19/50\n",
      "7982/7982 [==============================] - 1s 135us/step - loss: 0.1467 - acc: 0.9570 - val_loss: 1.4541 - val_acc: 0.7570\n",
      "Epoch 20/50\n",
      "7982/7982 [==============================] - 1s 138us/step - loss: 0.1486 - acc: 0.9582 - val_loss: 1.4523 - val_acc: 0.7640\n",
      "Epoch 21/50\n",
      "7982/7982 [==============================] - 1s 138us/step - loss: 0.1279 - acc: 0.9577 - val_loss: 1.2968 - val_acc: 0.7700\n",
      "Epoch 22/50\n",
      "7982/7982 [==============================] - 1s 139us/step - loss: 0.1304 - acc: 0.9599 - val_loss: 1.3932 - val_acc: 0.7740\n",
      "Epoch 23/50\n",
      "7982/7982 [==============================] - 1s 144us/step - loss: 0.1348 - acc: 0.9584 - val_loss: 1.5648 - val_acc: 0.7440\n",
      "Epoch 24/50\n",
      "7982/7982 [==============================] - 1s 135us/step - loss: 0.1300 - acc: 0.9589 - val_loss: 1.5060 - val_acc: 0.7460\n",
      "Epoch 25/50\n",
      "7982/7982 [==============================] - 1s 145us/step - loss: 0.1248 - acc: 0.9585 - val_loss: 1.4215 - val_acc: 0.7610\n",
      "Epoch 26/50\n",
      "7982/7982 [==============================] - 2s 188us/step - loss: 0.1245 - acc: 0.9589 - val_loss: 1.4643 - val_acc: 0.7490\n",
      "Epoch 27/50\n",
      "7982/7982 [==============================] - 1s 183us/step - loss: 0.1223 - acc: 0.9590 - val_loss: 1.4029 - val_acc: 0.7680\n",
      "Epoch 28/50\n",
      "7982/7982 [==============================] - 1s 166us/step - loss: 0.1192 - acc: 0.9593 - val_loss: 1.5204 - val_acc: 0.7610\n",
      "Epoch 29/50\n",
      "7982/7982 [==============================] - 1s 142us/step - loss: 0.1172 - acc: 0.9594 - val_loss: 1.4024 - val_acc: 0.7800\n",
      "Epoch 30/50\n",
      "7982/7982 [==============================] - 1s 148us/step - loss: 0.1193 - acc: 0.9573 - val_loss: 1.4077 - val_acc: 0.7710\n",
      "Epoch 31/50\n",
      "7982/7982 [==============================] - 1s 145us/step - loss: 0.1103 - acc: 0.9604 - val_loss: 1.4005 - val_acc: 0.7800\n",
      "Epoch 32/50\n",
      "7982/7982 [==============================] - 1s 166us/step - loss: 0.1107 - acc: 0.9582 - val_loss: 1.4263 - val_acc: 0.7840\n",
      "Epoch 33/50\n",
      "7982/7982 [==============================] - 1s 161us/step - loss: 0.1120 - acc: 0.9607 - val_loss: 1.3959 - val_acc: 0.7730\n",
      "Epoch 34/50\n",
      "7982/7982 [==============================] - 1s 158us/step - loss: 0.1082 - acc: 0.9592 - val_loss: 1.4190 - val_acc: 0.7720\n",
      "Epoch 35/50\n",
      "7982/7982 [==============================] - 1s 164us/step - loss: 0.1056 - acc: 0.9585 - val_loss: 1.4557 - val_acc: 0.7700\n",
      "Epoch 36/50\n",
      "7982/7982 [==============================] - 1s 146us/step - loss: 0.1028 - acc: 0.9615 - val_loss: 1.6903 - val_acc: 0.7530\n",
      "Epoch 37/50\n",
      "7982/7982 [==============================] - 1s 171us/step - loss: 0.0997 - acc: 0.9602 - val_loss: 1.6386 - val_acc: 0.7630\n",
      "Epoch 38/50\n",
      "7982/7982 [==============================] - 2s 195us/step - loss: 0.1025 - acc: 0.9600 - val_loss: 1.4561 - val_acc: 0.7750\n",
      "Epoch 39/50\n",
      "7982/7982 [==============================] - 1s 171us/step - loss: 0.0993 - acc: 0.9618 - val_loss: 1.5048 - val_acc: 0.7580\n",
      "Epoch 40/50\n",
      "7982/7982 [==============================] - 1s 162us/step - loss: 0.1008 - acc: 0.9618 - val_loss: 1.4843 - val_acc: 0.7540\n",
      "Epoch 41/50\n",
      "7982/7982 [==============================] - 1s 160us/step - loss: 0.1058 - acc: 0.9584 - val_loss: 1.5778 - val_acc: 0.7660\n",
      "Epoch 42/50\n",
      "7982/7982 [==============================] - 1s 140us/step - loss: 0.0978 - acc: 0.9597 - val_loss: 1.4666 - val_acc: 0.7780\n",
      "Epoch 43/50\n",
      "7982/7982 [==============================] - 1s 144us/step - loss: 0.0968 - acc: 0.9594 - val_loss: 1.4569 - val_acc: 0.7670\n",
      "Epoch 44/50\n",
      "7982/7982 [==============================] - 1s 145us/step - loss: 0.0984 - acc: 0.9587 - val_loss: 1.7143 - val_acc: 0.7450\n",
      "Epoch 45/50\n",
      "7982/7982 [==============================] - 1s 174us/step - loss: 0.0943 - acc: 0.9607 - val_loss: 1.4850 - val_acc: 0.7660\n",
      "Epoch 46/50\n",
      "7982/7982 [==============================] - 1s 142us/step - loss: 0.0871 - acc: 0.9635 - val_loss: 1.5295 - val_acc: 0.7550\n",
      "Epoch 47/50\n",
      "7982/7982 [==============================] - 1s 153us/step - loss: 0.0950 - acc: 0.9584 - val_loss: 1.5983 - val_acc: 0.7620\n",
      "Epoch 48/50\n",
      "7982/7982 [==============================] - 1s 144us/step - loss: 0.0924 - acc: 0.9594 - val_loss: 1.5741 - val_acc: 0.7670\n",
      "Epoch 49/50\n",
      "7982/7982 [==============================] - 1s 161us/step - loss: 0.0948 - acc: 0.9592 - val_loss: 1.5114 - val_acc: 0.7740\n",
      "Epoch 50/50\n",
      "7982/7982 [==============================] - 1s 143us/step - loss: 0.0896 - acc: 0.9587 - val_loss: 1.5702 - val_acc: 0.7660\n"
     ]
    },
    {
     "data": {
      "text/plain": [
       "<keras.callbacks.History at 0x7fcb926ad0b8>"
      ]
     },
     "execution_count": 29,
     "metadata": {},
     "output_type": "execute_result"
    }
   ],
   "source": [
    "# alternate models with four hidden layer\n",
    "\n",
    "\n",
    "model4 = models.Sequential()\n",
    "model4.add(layers.Dense(64,\n",
    "                        activation='relu',\n",
    "                        input_shape=(10000,)))\n",
    "\n",
    "model4.add(layers.Dense(64,\n",
    "                        activation='relu'))\n",
    "\n",
    "model4.add(layers.Dense(64,\n",
    "                        activation='relu'))\n",
    "\n",
    "model4.add(layers.Dense(64,\n",
    "                        activation='relu'))\n",
    "\n",
    "model4.add(layers.Dense(46,\n",
    "                        activation='softmax'))\n",
    "\n",
    "model4.compile(optimizer='rmsprop',\n",
    "               loss='sparse_categorical_crossentropy',\n",
    "               metrics=['accuracy'])\n",
    "\n",
    "model4.fit(partial_x_train,\n",
    "           partial_y_train,\n",
    "           epochs=50,\n",
    "           batch_size=512,\n",
    "           validation_data=(x_val, y_val))\n",
    "\n",
    "# no improvement on adding hidden layers"
   ]
  },
  {
   "cell_type": "code",
   "execution_count": null,
   "metadata": {},
   "outputs": [],
   "source": []
  }
 ],
 "metadata": {
  "kernelspec": {
   "display_name": "Python 3",
   "language": "python",
   "name": "python3"
  },
  "language_info": {
   "codemirror_mode": {
    "name": "ipython",
    "version": 3
   },
   "file_extension": ".py",
   "mimetype": "text/x-python",
   "name": "python",
   "nbconvert_exporter": "python",
   "pygments_lexer": "ipython3",
   "version": "3.6.7"
  }
 },
 "nbformat": 4,
 "nbformat_minor": 2
}
